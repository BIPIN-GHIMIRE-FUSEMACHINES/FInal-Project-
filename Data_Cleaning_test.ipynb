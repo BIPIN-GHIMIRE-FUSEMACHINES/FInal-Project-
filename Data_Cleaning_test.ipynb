{
 "cells": [
  {
   "cell_type": "code",
   "execution_count": 1,
   "metadata": {},
   "outputs": [],
   "source": [
    "import pyspark.sql.functions as f"
   ]
  },
  {
   "cell_type": "code",
   "execution_count": 2,
   "metadata": {},
   "outputs": [
    {
     "name": "stderr",
     "output_type": "stream",
     "text": [
      "your 131072x1 screen size is bogus. expect trouble\n",
      "23/11/02 10:37:16 WARN Utils: Your hostname, LAPTOP-GRLQJBNM resolves to a loopback address: 127.0.1.1; using 172.27.87.196 instead (on interface eth0)\n",
      "23/11/02 10:37:16 WARN Utils: Set SPARK_LOCAL_IP if you need to bind to another address\n",
      "Setting default log level to \"WARN\".\n",
      "To adjust logging level use sc.setLogLevel(newLevel). For SparkR, use setLogLevel(newLevel).\n",
      "23/11/02 10:37:18 WARN NativeCodeLoader: Unable to load native-hadoop library for your platform... using builtin-java classes where applicable\n"
     ]
    }
   ],
   "source": [
    "from pyspark.sql import SparkSession\n",
    "\n",
    "# Create a Spark session\n",
    "spark = SparkSession.builder.appName(\"CleaningData\")\\\n",
    "    .config('spark.driver.extraClassPath','/usr/lib/jvm/java-17-openjdk-amd64/lib/postgresql-42.6.0.jar')\\\n",
    "    .getOrCreate()"
   ]
  },
  {
   "cell_type": "code",
   "execution_count": 3,
   "metadata": {},
   "outputs": [],
   "source": [
    "from dotenv import load_dotenv\n",
    "import os\n",
    "\n",
    "load_dotenv()\n",
    "\n",
    "user = os.getenv(\"user\")\n",
    "password = os.getenv(\"password\")"
   ]
  },
  {
   "cell_type": "code",
   "execution_count": 4,
   "metadata": {},
   "outputs": [],
   "source": [
    "jdbc_url = \"jdbc:postgresql://localhost:5432/air\"\n",
    "\n",
    "connection_properties = {\n",
    "    \"user\": user,\n",
    "    \"password\": password,\n",
    "    \"driver\": \"org.postgresql.Driver\"\n",
    "}\n",
    "\n",
    "uncleaned_data = spark.read.jdbc(url=jdbc_url, table=\"test_table_create_testing_final\", properties=connection_properties)"
   ]
  },
  {
   "cell_type": "code",
   "execution_count": 5,
   "metadata": {},
   "outputs": [
    {
     "name": "stdout",
     "output_type": "stream",
     "text": [
      "root\n",
      " |-- App: string (nullable = true)\n",
      " |-- Category: string (nullable = true)\n",
      " |-- Rating: float (nullable = true)\n",
      " |-- Reviews: integer (nullable = true)\n",
      " |-- Size: string (nullable = true)\n",
      " |-- Installs: string (nullable = true)\n",
      " |-- Type: string (nullable = true)\n",
      " |-- Price: string (nullable = true)\n",
      " |-- Content Rating: string (nullable = true)\n",
      " |-- Genres: string (nullable = true)\n",
      " |-- Last Updated: date (nullable = true)\n",
      " |-- Current Ver: string (nullable = true)\n",
      " |-- Android Ver: string (nullable = true)\n",
      "\n"
     ]
    }
   ],
   "source": [
    "uncleaned_data.printSchema()"
   ]
  },
  {
   "cell_type": "code",
   "execution_count": 6,
   "metadata": {},
   "outputs": [
    {
     "name": "stdout",
     "output_type": "stream",
     "text": [
      "+--------------------+--------------+------+-------+----+-----------+----+-----+--------------+--------------------+------------+------------------+------------+\n",
      "|                 App|      Category|Rating|Reviews|Size|   Installs|Type|Price|Content Rating|              Genres|Last Updated|       Current Ver| Android Ver|\n",
      "+--------------------+--------------+------+-------+----+-----------+----+-----+--------------+--------------------+------------+------------------+------------+\n",
      "|Photo Editor & Ca...|ART_AND_DESIGN|   4.1|    159| 19M|    10,000+|Free|    0|      Everyone|        Art & Design|  2018-01-07|             1.0.0|4.0.3 and up|\n",
      "| Coloring book moana|ART_AND_DESIGN|   3.9|    967| 14M|   500,000+|Free|    0|      Everyone|Art & Design;Pret...|  2018-01-15|             2.0.0|4.0.3 and up|\n",
      "|U Launcher Lite –...|ART_AND_DESIGN|   4.7|  87510|8.7M| 5,000,000+|Free|    0|      Everyone|        Art & Design|  2018-08-01|             1.2.4|4.0.3 and up|\n",
      "|Sketch - Draw & P...|ART_AND_DESIGN|   4.5| 215644| 25M|50,000,000+|Free|    0|          Teen|        Art & Design|  2018-06-08|Varies with device|  4.2 and up|\n",
      "|Pixel Draw - Numb...|ART_AND_DESIGN|   4.3|    967|2.8M|   100,000+|Free|    0|      Everyone|Art & Design;Crea...|  2018-06-20|               1.1|  4.4 and up|\n",
      "|Paper flowers ins...|ART_AND_DESIGN|   4.4|    167|5.6M|    50,000+|Free|    0|      Everyone|        Art & Design|  2017-03-26|               1.0|  2.3 and up|\n",
      "|Smoke Effect Phot...|ART_AND_DESIGN|   3.8|    178| 19M|    50,000+|Free|    0|      Everyone|        Art & Design|  2018-04-26|               1.1|4.0.3 and up|\n",
      "|    Infinite Painter|ART_AND_DESIGN|   4.1|  36815| 29M| 1,000,000+|Free|    0|      Everyone|        Art & Design|  2018-06-14|          6.1.61.1|  4.2 and up|\n",
      "|Garden Coloring Book|ART_AND_DESIGN|   4.4|  13791| 33M| 1,000,000+|Free|    0|      Everyone|        Art & Design|  2017-09-20|             2.9.2|  3.0 and up|\n",
      "|Kids Paint Free -...|ART_AND_DESIGN|   4.7|    121|3.1M|    10,000+|Free|    0|      Everyone|Art & Design;Crea...|  2018-07-03|               2.8|4.0.3 and up|\n",
      "|Text on Photo - F...|ART_AND_DESIGN|   4.4|  13880| 28M| 1,000,000+|Free|    0|      Everyone|        Art & Design|  2017-10-27|             1.0.4|  4.1 and up|\n",
      "|Name Art Photo Ed...|ART_AND_DESIGN|   4.4|   8788| 12M| 1,000,000+|Free|    0|      Everyone|        Art & Design|  2018-07-31|            1.0.15|  4.0 and up|\n",
      "|Tattoo Name On My...|ART_AND_DESIGN|   4.2|  44829| 20M|10,000,000+|Free|    0|          Teen|        Art & Design|  2018-04-02|               3.8|  4.1 and up|\n",
      "|Mandala Coloring ...|ART_AND_DESIGN|   4.6|   4326| 21M|   100,000+|Free|    0|      Everyone|        Art & Design|  2018-06-26|             1.0.4|  4.4 and up|\n",
      "|3D Color Pixel by...|ART_AND_DESIGN|   4.4|   1518| 37M|   100,000+|Free|    0|      Everyone|        Art & Design|  2018-08-03|             1.2.3|  2.3 and up|\n",
      "|Learn To Draw Kaw...|ART_AND_DESIGN|   3.2|     55|2.7M|     5,000+|Free|    0|      Everyone|        Art & Design|  2018-06-06|               NaN|  4.2 and up|\n",
      "|Photo Designer - ...|ART_AND_DESIGN|   4.7|   3632|5.5M|   500,000+|Free|    0|      Everyone|        Art & Design|  2018-07-31|               3.1|  4.1 and up|\n",
      "|350 Diy Room Deco...|ART_AND_DESIGN|   4.5|     27| 17M|    10,000+|Free|    0|      Everyone|        Art & Design|  2017-11-07|               1.0|  2.3 and up|\n",
      "|FlipaClip - Carto...|ART_AND_DESIGN|   4.3| 194216| 39M| 5,000,000+|Free|    0|      Everyone|        Art & Design|  2018-08-03|             2.2.5|4.0.3 and up|\n",
      "|        ibis Paint X|ART_AND_DESIGN|   4.6| 224399| 31M|10,000,000+|Free|    0|      Everyone|        Art & Design|  2018-07-30|             5.5.4|  4.1 and up|\n",
      "+--------------------+--------------+------+-------+----+-----------+----+-----+--------------+--------------------+------------+------------------+------------+\n",
      "only showing top 20 rows\n",
      "\n"
     ]
    }
   ],
   "source": [
    "uncleaned_data.show()"
   ]
  },
  {
   "cell_type": "code",
   "execution_count": 7,
   "metadata": {},
   "outputs": [],
   "source": [
    "uncleaned_data = uncleaned_data.withColumn(\"Rating\", f.when(f.col(\"Rating\") == \"NaN\", \"0.0\").otherwise(f.col(\"Rating\")))"
   ]
  },
  {
   "cell_type": "code",
   "execution_count": 8,
   "metadata": {},
   "outputs": [],
   "source": [
    "cleaning_data = uncleaned_data.withColumn(\"Current Ver\", f.when(f.col(\"Current Ver\") == \"Varies with device\", None).otherwise(f.col(\"Current Ver\")))"
   ]
  },
  {
   "cell_type": "code",
   "execution_count": 9,
   "metadata": {},
   "outputs": [
    {
     "name": "stdout",
     "output_type": "stream",
     "text": [
      "+--------------------+--------------+------+-------+----+-----------+----+-----+--------------+--------------------+------------+-----------+------------+\n",
      "|                 App|      Category|Rating|Reviews|Size|   Installs|Type|Price|Content Rating|              Genres|Last Updated|Current Ver| Android Ver|\n",
      "+--------------------+--------------+------+-------+----+-----------+----+-----+--------------+--------------------+------------+-----------+------------+\n",
      "|Photo Editor & Ca...|ART_AND_DESIGN|   4.1|    159| 19M|    10,000+|Free|    0|      Everyone|        Art & Design|  2018-01-07|      1.0.0|4.0.3 and up|\n",
      "| Coloring book moana|ART_AND_DESIGN|   3.9|    967| 14M|   500,000+|Free|    0|      Everyone|Art & Design;Pret...|  2018-01-15|      2.0.0|4.0.3 and up|\n",
      "|U Launcher Lite –...|ART_AND_DESIGN|   4.7|  87510|8.7M| 5,000,000+|Free|    0|      Everyone|        Art & Design|  2018-08-01|      1.2.4|4.0.3 and up|\n",
      "|Sketch - Draw & P...|ART_AND_DESIGN|   4.5| 215644| 25M|50,000,000+|Free|    0|          Teen|        Art & Design|  2018-06-08|       null|  4.2 and up|\n",
      "|Pixel Draw - Numb...|ART_AND_DESIGN|   4.3|    967|2.8M|   100,000+|Free|    0|      Everyone|Art & Design;Crea...|  2018-06-20|        1.1|  4.4 and up|\n",
      "|Paper flowers ins...|ART_AND_DESIGN|   4.4|    167|5.6M|    50,000+|Free|    0|      Everyone|        Art & Design|  2017-03-26|        1.0|  2.3 and up|\n",
      "|Smoke Effect Phot...|ART_AND_DESIGN|   3.8|    178| 19M|    50,000+|Free|    0|      Everyone|        Art & Design|  2018-04-26|        1.1|4.0.3 and up|\n",
      "|    Infinite Painter|ART_AND_DESIGN|   4.1|  36815| 29M| 1,000,000+|Free|    0|      Everyone|        Art & Design|  2018-06-14|   6.1.61.1|  4.2 and up|\n",
      "|Garden Coloring Book|ART_AND_DESIGN|   4.4|  13791| 33M| 1,000,000+|Free|    0|      Everyone|        Art & Design|  2017-09-20|      2.9.2|  3.0 and up|\n",
      "|Kids Paint Free -...|ART_AND_DESIGN|   4.7|    121|3.1M|    10,000+|Free|    0|      Everyone|Art & Design;Crea...|  2018-07-03|        2.8|4.0.3 and up|\n",
      "|Text on Photo - F...|ART_AND_DESIGN|   4.4|  13880| 28M| 1,000,000+|Free|    0|      Everyone|        Art & Design|  2017-10-27|      1.0.4|  4.1 and up|\n",
      "|Name Art Photo Ed...|ART_AND_DESIGN|   4.4|   8788| 12M| 1,000,000+|Free|    0|      Everyone|        Art & Design|  2018-07-31|     1.0.15|  4.0 and up|\n",
      "|Tattoo Name On My...|ART_AND_DESIGN|   4.2|  44829| 20M|10,000,000+|Free|    0|          Teen|        Art & Design|  2018-04-02|        3.8|  4.1 and up|\n",
      "|Mandala Coloring ...|ART_AND_DESIGN|   4.6|   4326| 21M|   100,000+|Free|    0|      Everyone|        Art & Design|  2018-06-26|      1.0.4|  4.4 and up|\n",
      "|3D Color Pixel by...|ART_AND_DESIGN|   4.4|   1518| 37M|   100,000+|Free|    0|      Everyone|        Art & Design|  2018-08-03|      1.2.3|  2.3 and up|\n",
      "|Learn To Draw Kaw...|ART_AND_DESIGN|   3.2|     55|2.7M|     5,000+|Free|    0|      Everyone|        Art & Design|  2018-06-06|        NaN|  4.2 and up|\n",
      "|Photo Designer - ...|ART_AND_DESIGN|   4.7|   3632|5.5M|   500,000+|Free|    0|      Everyone|        Art & Design|  2018-07-31|        3.1|  4.1 and up|\n",
      "|350 Diy Room Deco...|ART_AND_DESIGN|   4.5|     27| 17M|    10,000+|Free|    0|      Everyone|        Art & Design|  2017-11-07|        1.0|  2.3 and up|\n",
      "|FlipaClip - Carto...|ART_AND_DESIGN|   4.3| 194216| 39M| 5,000,000+|Free|    0|      Everyone|        Art & Design|  2018-08-03|      2.2.5|4.0.3 and up|\n",
      "|        ibis Paint X|ART_AND_DESIGN|   4.6| 224399| 31M|10,000,000+|Free|    0|      Everyone|        Art & Design|  2018-07-30|      5.5.4|  4.1 and up|\n",
      "+--------------------+--------------+------+-------+----+-----------+----+-----+--------------+--------------------+------------+-----------+------------+\n",
      "only showing top 20 rows\n",
      "\n"
     ]
    }
   ],
   "source": [
    "cleaning_data.show()"
   ]
  },
  {
   "cell_type": "code",
   "execution_count": 10,
   "metadata": {},
   "outputs": [],
   "source": [
    "cleaning_data = cleaning_data.withColumn(\"Device_Current_Version_Dependency\", f.when(f.col(\"Current Ver\").isNull(), True).otherwise(False))"
   ]
  },
  {
   "cell_type": "code",
   "execution_count": 11,
   "metadata": {},
   "outputs": [],
   "source": [
    "cleaning_data = cleaning_data.withColumn(\"Size\", f.when(f.col(\"Size\") == \"Varies with device\", None).otherwise(f.col(\"Size\")))"
   ]
  },
  {
   "cell_type": "code",
   "execution_count": 12,
   "metadata": {},
   "outputs": [],
   "source": [
    "cleaning_data = cleaning_data.withColumn(\"Device_Size_Dependency\", f.when(f.col(\"Size\").isNull(), True).otherwise(False))"
   ]
  },
  {
   "cell_type": "code",
   "execution_count": 13,
   "metadata": {},
   "outputs": [],
   "source": [
    "cleaning_data = cleaning_data.withColumn(\"Android Ver\", f.when(f.col(\"Android Ver\") == \"Varies with device\", None).otherwise(f.col(\"Android Ver\")))"
   ]
  },
  {
   "cell_type": "code",
   "execution_count": 14,
   "metadata": {},
   "outputs": [],
   "source": [
    "cleaning_data = cleaning_data.withColumn(\"Device_Android_Version_Dependency\", f.when(f.col(\"Android Ver\").isNull(), True).otherwise(False))"
   ]
  },
  {
   "cell_type": "code",
   "execution_count": 15,
   "metadata": {},
   "outputs": [
    {
     "name": "stdout",
     "output_type": "stream",
     "text": [
      "+--------------------+--------------+------+-------+----+-----------+----+-----+--------------+--------------------+------------+-----------+------------+---------------------------------+----------------------+---------------------------------+\n",
      "|                 App|      Category|Rating|Reviews|Size|   Installs|Type|Price|Content Rating|              Genres|Last Updated|Current Ver| Android Ver|Device_Current_Version_Dependency|Device_Size_Dependency|Device_Android_Version_Dependency|\n",
      "+--------------------+--------------+------+-------+----+-----------+----+-----+--------------+--------------------+------------+-----------+------------+---------------------------------+----------------------+---------------------------------+\n",
      "|Photo Editor & Ca...|ART_AND_DESIGN|   4.1|    159| 19M|    10,000+|Free|    0|      Everyone|        Art & Design|  2018-01-07|      1.0.0|4.0.3 and up|                            false|                 false|                            false|\n",
      "| Coloring book moana|ART_AND_DESIGN|   3.9|    967| 14M|   500,000+|Free|    0|      Everyone|Art & Design;Pret...|  2018-01-15|      2.0.0|4.0.3 and up|                            false|                 false|                            false|\n",
      "|U Launcher Lite –...|ART_AND_DESIGN|   4.7|  87510|8.7M| 5,000,000+|Free|    0|      Everyone|        Art & Design|  2018-08-01|      1.2.4|4.0.3 and up|                            false|                 false|                            false|\n",
      "|Sketch - Draw & P...|ART_AND_DESIGN|   4.5| 215644| 25M|50,000,000+|Free|    0|          Teen|        Art & Design|  2018-06-08|       null|  4.2 and up|                             true|                 false|                            false|\n",
      "|Pixel Draw - Numb...|ART_AND_DESIGN|   4.3|    967|2.8M|   100,000+|Free|    0|      Everyone|Art & Design;Crea...|  2018-06-20|        1.1|  4.4 and up|                            false|                 false|                            false|\n",
      "|Paper flowers ins...|ART_AND_DESIGN|   4.4|    167|5.6M|    50,000+|Free|    0|      Everyone|        Art & Design|  2017-03-26|        1.0|  2.3 and up|                            false|                 false|                            false|\n",
      "|Smoke Effect Phot...|ART_AND_DESIGN|   3.8|    178| 19M|    50,000+|Free|    0|      Everyone|        Art & Design|  2018-04-26|        1.1|4.0.3 and up|                            false|                 false|                            false|\n",
      "|    Infinite Painter|ART_AND_DESIGN|   4.1|  36815| 29M| 1,000,000+|Free|    0|      Everyone|        Art & Design|  2018-06-14|   6.1.61.1|  4.2 and up|                            false|                 false|                            false|\n",
      "|Garden Coloring Book|ART_AND_DESIGN|   4.4|  13791| 33M| 1,000,000+|Free|    0|      Everyone|        Art & Design|  2017-09-20|      2.9.2|  3.0 and up|                            false|                 false|                            false|\n",
      "|Kids Paint Free -...|ART_AND_DESIGN|   4.7|    121|3.1M|    10,000+|Free|    0|      Everyone|Art & Design;Crea...|  2018-07-03|        2.8|4.0.3 and up|                            false|                 false|                            false|\n",
      "|Text on Photo - F...|ART_AND_DESIGN|   4.4|  13880| 28M| 1,000,000+|Free|    0|      Everyone|        Art & Design|  2017-10-27|      1.0.4|  4.1 and up|                            false|                 false|                            false|\n",
      "|Name Art Photo Ed...|ART_AND_DESIGN|   4.4|   8788| 12M| 1,000,000+|Free|    0|      Everyone|        Art & Design|  2018-07-31|     1.0.15|  4.0 and up|                            false|                 false|                            false|\n",
      "|Tattoo Name On My...|ART_AND_DESIGN|   4.2|  44829| 20M|10,000,000+|Free|    0|          Teen|        Art & Design|  2018-04-02|        3.8|  4.1 and up|                            false|                 false|                            false|\n",
      "|Mandala Coloring ...|ART_AND_DESIGN|   4.6|   4326| 21M|   100,000+|Free|    0|      Everyone|        Art & Design|  2018-06-26|      1.0.4|  4.4 and up|                            false|                 false|                            false|\n",
      "|3D Color Pixel by...|ART_AND_DESIGN|   4.4|   1518| 37M|   100,000+|Free|    0|      Everyone|        Art & Design|  2018-08-03|      1.2.3|  2.3 and up|                            false|                 false|                            false|\n",
      "|Learn To Draw Kaw...|ART_AND_DESIGN|   3.2|     55|2.7M|     5,000+|Free|    0|      Everyone|        Art & Design|  2018-06-06|        NaN|  4.2 and up|                            false|                 false|                            false|\n",
      "|Photo Designer - ...|ART_AND_DESIGN|   4.7|   3632|5.5M|   500,000+|Free|    0|      Everyone|        Art & Design|  2018-07-31|        3.1|  4.1 and up|                            false|                 false|                            false|\n",
      "|350 Diy Room Deco...|ART_AND_DESIGN|   4.5|     27| 17M|    10,000+|Free|    0|      Everyone|        Art & Design|  2017-11-07|        1.0|  2.3 and up|                            false|                 false|                            false|\n",
      "|FlipaClip - Carto...|ART_AND_DESIGN|   4.3| 194216| 39M| 5,000,000+|Free|    0|      Everyone|        Art & Design|  2018-08-03|      2.2.5|4.0.3 and up|                            false|                 false|                            false|\n",
      "|        ibis Paint X|ART_AND_DESIGN|   4.6| 224399| 31M|10,000,000+|Free|    0|      Everyone|        Art & Design|  2018-07-30|      5.5.4|  4.1 and up|                            false|                 false|                            false|\n",
      "+--------------------+--------------+------+-------+----+-----------+----+-----+--------------+--------------------+------------+-----------+------------+---------------------------------+----------------------+---------------------------------+\n",
      "only showing top 20 rows\n",
      "\n"
     ]
    }
   ],
   "source": [
    "cleaning_data.show()"
   ]
  },
  {
   "cell_type": "code",
   "execution_count": 16,
   "metadata": {},
   "outputs": [],
   "source": [
    "cleaning_data_test = cleaning_data.withColumn(\n",
    "    \"Size_in_Megabytes\",\n",
    "    f.when(cleaning_data[\"Size\"].contains(\"M\"), \n",
    "         f.regexp_replace(cleaning_data[\"Size\"], \"M\", \"\").cast(\"float\"))\n",
    "    .when(cleaning_data[\"Size\"].contains(\"k\"), \n",
    "          (f.regexp_replace(cleaning_data[\"Size\"], \"k\", \"\").cast(\"float\") / 1024))\n",
    "    .otherwise(cleaning_data[\"Size\"])\n",
    ")\n"
   ]
  },
  {
   "cell_type": "code",
   "execution_count": 17,
   "metadata": {},
   "outputs": [
    {
     "name": "stdout",
     "output_type": "stream",
     "text": [
      "+--------------------+--------------+------+-------+----+-----------+----+-----+--------------+--------------------+------------+-----------+------------+---------------------------------+----------------------+---------------------------------+-----------------+\n",
      "|                 App|      Category|Rating|Reviews|Size|   Installs|Type|Price|Content Rating|              Genres|Last Updated|Current Ver| Android Ver|Device_Current_Version_Dependency|Device_Size_Dependency|Device_Android_Version_Dependency|Size_in_Megabytes|\n",
      "+--------------------+--------------+------+-------+----+-----------+----+-----+--------------+--------------------+------------+-----------+------------+---------------------------------+----------------------+---------------------------------+-----------------+\n",
      "|Photo Editor & Ca...|ART_AND_DESIGN|   4.1|    159| 19M|    10,000+|Free|    0|      Everyone|        Art & Design|  2018-01-07|      1.0.0|4.0.3 and up|                            false|                 false|                            false|             19.0|\n",
      "| Coloring book moana|ART_AND_DESIGN|   3.9|    967| 14M|   500,000+|Free|    0|      Everyone|Art & Design;Pret...|  2018-01-15|      2.0.0|4.0.3 and up|                            false|                 false|                            false|             14.0|\n",
      "|U Launcher Lite –...|ART_AND_DESIGN|   4.7|  87510|8.7M| 5,000,000+|Free|    0|      Everyone|        Art & Design|  2018-08-01|      1.2.4|4.0.3 and up|                            false|                 false|                            false|              8.7|\n",
      "|Sketch - Draw & P...|ART_AND_DESIGN|   4.5| 215644| 25M|50,000,000+|Free|    0|          Teen|        Art & Design|  2018-06-08|       null|  4.2 and up|                             true|                 false|                            false|             25.0|\n",
      "|Pixel Draw - Numb...|ART_AND_DESIGN|   4.3|    967|2.8M|   100,000+|Free|    0|      Everyone|Art & Design;Crea...|  2018-06-20|        1.1|  4.4 and up|                            false|                 false|                            false|              2.8|\n",
      "|Paper flowers ins...|ART_AND_DESIGN|   4.4|    167|5.6M|    50,000+|Free|    0|      Everyone|        Art & Design|  2017-03-26|        1.0|  2.3 and up|                            false|                 false|                            false|              5.6|\n",
      "|Smoke Effect Phot...|ART_AND_DESIGN|   3.8|    178| 19M|    50,000+|Free|    0|      Everyone|        Art & Design|  2018-04-26|        1.1|4.0.3 and up|                            false|                 false|                            false|             19.0|\n",
      "|    Infinite Painter|ART_AND_DESIGN|   4.1|  36815| 29M| 1,000,000+|Free|    0|      Everyone|        Art & Design|  2018-06-14|   6.1.61.1|  4.2 and up|                            false|                 false|                            false|             29.0|\n",
      "|Garden Coloring Book|ART_AND_DESIGN|   4.4|  13791| 33M| 1,000,000+|Free|    0|      Everyone|        Art & Design|  2017-09-20|      2.9.2|  3.0 and up|                            false|                 false|                            false|             33.0|\n",
      "|Kids Paint Free -...|ART_AND_DESIGN|   4.7|    121|3.1M|    10,000+|Free|    0|      Everyone|Art & Design;Crea...|  2018-07-03|        2.8|4.0.3 and up|                            false|                 false|                            false|              3.1|\n",
      "|Text on Photo - F...|ART_AND_DESIGN|   4.4|  13880| 28M| 1,000,000+|Free|    0|      Everyone|        Art & Design|  2017-10-27|      1.0.4|  4.1 and up|                            false|                 false|                            false|             28.0|\n",
      "|Name Art Photo Ed...|ART_AND_DESIGN|   4.4|   8788| 12M| 1,000,000+|Free|    0|      Everyone|        Art & Design|  2018-07-31|     1.0.15|  4.0 and up|                            false|                 false|                            false|             12.0|\n",
      "|Tattoo Name On My...|ART_AND_DESIGN|   4.2|  44829| 20M|10,000,000+|Free|    0|          Teen|        Art & Design|  2018-04-02|        3.8|  4.1 and up|                            false|                 false|                            false|             20.0|\n",
      "|Mandala Coloring ...|ART_AND_DESIGN|   4.6|   4326| 21M|   100,000+|Free|    0|      Everyone|        Art & Design|  2018-06-26|      1.0.4|  4.4 and up|                            false|                 false|                            false|             21.0|\n",
      "|3D Color Pixel by...|ART_AND_DESIGN|   4.4|   1518| 37M|   100,000+|Free|    0|      Everyone|        Art & Design|  2018-08-03|      1.2.3|  2.3 and up|                            false|                 false|                            false|             37.0|\n",
      "|Learn To Draw Kaw...|ART_AND_DESIGN|   3.2|     55|2.7M|     5,000+|Free|    0|      Everyone|        Art & Design|  2018-06-06|        NaN|  4.2 and up|                            false|                 false|                            false|              2.7|\n",
      "|Photo Designer - ...|ART_AND_DESIGN|   4.7|   3632|5.5M|   500,000+|Free|    0|      Everyone|        Art & Design|  2018-07-31|        3.1|  4.1 and up|                            false|                 false|                            false|              5.5|\n",
      "|350 Diy Room Deco...|ART_AND_DESIGN|   4.5|     27| 17M|    10,000+|Free|    0|      Everyone|        Art & Design|  2017-11-07|        1.0|  2.3 and up|                            false|                 false|                            false|             17.0|\n",
      "|FlipaClip - Carto...|ART_AND_DESIGN|   4.3| 194216| 39M| 5,000,000+|Free|    0|      Everyone|        Art & Design|  2018-08-03|      2.2.5|4.0.3 and up|                            false|                 false|                            false|             39.0|\n",
      "|        ibis Paint X|ART_AND_DESIGN|   4.6| 224399| 31M|10,000,000+|Free|    0|      Everyone|        Art & Design|  2018-07-30|      5.5.4|  4.1 and up|                            false|                 false|                            false|             31.0|\n",
      "+--------------------+--------------+------+-------+----+-----------+----+-----+--------------+--------------------+------------+-----------+------------+---------------------------------+----------------------+---------------------------------+-----------------+\n",
      "only showing top 20 rows\n",
      "\n"
     ]
    }
   ],
   "source": [
    "cleaning_data_test.show()"
   ]
  },
  {
   "cell_type": "code",
   "execution_count": 19,
   "metadata": {},
   "outputs": [],
   "source": [
    "cleaning_data = cleaning_data_test.withColumn(\"Android Ver\", f.regexp_replace(cleaning_data_test[\"Android Ver\"], \" and up\", \"\"))"
   ]
  },
  {
   "cell_type": "code",
   "execution_count": 20,
   "metadata": {},
   "outputs": [
    {
     "name": "stdout",
     "output_type": "stream",
     "text": [
      "+--------------------+--------------+------+-------+----+-----------+----+-----+--------------+--------------------+------------+-----------+-----------+---------------------------------+----------------------+---------------------------------+-----------------+\n",
      "|                 App|      Category|Rating|Reviews|Size|   Installs|Type|Price|Content Rating|              Genres|Last Updated|Current Ver|Android Ver|Device_Current_Version_Dependency|Device_Size_Dependency|Device_Android_Version_Dependency|Size_in_Megabytes|\n",
      "+--------------------+--------------+------+-------+----+-----------+----+-----+--------------+--------------------+------------+-----------+-----------+---------------------------------+----------------------+---------------------------------+-----------------+\n",
      "|Photo Editor & Ca...|ART_AND_DESIGN|   4.1|    159| 19M|    10,000+|Free|    0|      Everyone|        Art & Design|  2018-01-07|      1.0.0|      4.0.3|                            false|                 false|                            false|             19.0|\n",
      "| Coloring book moana|ART_AND_DESIGN|   3.9|    967| 14M|   500,000+|Free|    0|      Everyone|Art & Design;Pret...|  2018-01-15|      2.0.0|      4.0.3|                            false|                 false|                            false|             14.0|\n",
      "|U Launcher Lite –...|ART_AND_DESIGN|   4.7|  87510|8.7M| 5,000,000+|Free|    0|      Everyone|        Art & Design|  2018-08-01|      1.2.4|      4.0.3|                            false|                 false|                            false|              8.7|\n",
      "|Sketch - Draw & P...|ART_AND_DESIGN|   4.5| 215644| 25M|50,000,000+|Free|    0|          Teen|        Art & Design|  2018-06-08|       null|        4.2|                             true|                 false|                            false|             25.0|\n",
      "|Pixel Draw - Numb...|ART_AND_DESIGN|   4.3|    967|2.8M|   100,000+|Free|    0|      Everyone|Art & Design;Crea...|  2018-06-20|        1.1|        4.4|                            false|                 false|                            false|              2.8|\n",
      "|Paper flowers ins...|ART_AND_DESIGN|   4.4|    167|5.6M|    50,000+|Free|    0|      Everyone|        Art & Design|  2017-03-26|        1.0|        2.3|                            false|                 false|                            false|              5.6|\n",
      "|Smoke Effect Phot...|ART_AND_DESIGN|   3.8|    178| 19M|    50,000+|Free|    0|      Everyone|        Art & Design|  2018-04-26|        1.1|      4.0.3|                            false|                 false|                            false|             19.0|\n",
      "|    Infinite Painter|ART_AND_DESIGN|   4.1|  36815| 29M| 1,000,000+|Free|    0|      Everyone|        Art & Design|  2018-06-14|   6.1.61.1|        4.2|                            false|                 false|                            false|             29.0|\n",
      "|Garden Coloring Book|ART_AND_DESIGN|   4.4|  13791| 33M| 1,000,000+|Free|    0|      Everyone|        Art & Design|  2017-09-20|      2.9.2|        3.0|                            false|                 false|                            false|             33.0|\n",
      "|Kids Paint Free -...|ART_AND_DESIGN|   4.7|    121|3.1M|    10,000+|Free|    0|      Everyone|Art & Design;Crea...|  2018-07-03|        2.8|      4.0.3|                            false|                 false|                            false|              3.1|\n",
      "|Text on Photo - F...|ART_AND_DESIGN|   4.4|  13880| 28M| 1,000,000+|Free|    0|      Everyone|        Art & Design|  2017-10-27|      1.0.4|        4.1|                            false|                 false|                            false|             28.0|\n",
      "|Name Art Photo Ed...|ART_AND_DESIGN|   4.4|   8788| 12M| 1,000,000+|Free|    0|      Everyone|        Art & Design|  2018-07-31|     1.0.15|        4.0|                            false|                 false|                            false|             12.0|\n",
      "|Tattoo Name On My...|ART_AND_DESIGN|   4.2|  44829| 20M|10,000,000+|Free|    0|          Teen|        Art & Design|  2018-04-02|        3.8|        4.1|                            false|                 false|                            false|             20.0|\n",
      "|Mandala Coloring ...|ART_AND_DESIGN|   4.6|   4326| 21M|   100,000+|Free|    0|      Everyone|        Art & Design|  2018-06-26|      1.0.4|        4.4|                            false|                 false|                            false|             21.0|\n",
      "|3D Color Pixel by...|ART_AND_DESIGN|   4.4|   1518| 37M|   100,000+|Free|    0|      Everyone|        Art & Design|  2018-08-03|      1.2.3|        2.3|                            false|                 false|                            false|             37.0|\n",
      "|Learn To Draw Kaw...|ART_AND_DESIGN|   3.2|     55|2.7M|     5,000+|Free|    0|      Everyone|        Art & Design|  2018-06-06|        NaN|        4.2|                            false|                 false|                            false|              2.7|\n",
      "|Photo Designer - ...|ART_AND_DESIGN|   4.7|   3632|5.5M|   500,000+|Free|    0|      Everyone|        Art & Design|  2018-07-31|        3.1|        4.1|                            false|                 false|                            false|              5.5|\n",
      "|350 Diy Room Deco...|ART_AND_DESIGN|   4.5|     27| 17M|    10,000+|Free|    0|      Everyone|        Art & Design|  2017-11-07|        1.0|        2.3|                            false|                 false|                            false|             17.0|\n",
      "|FlipaClip - Carto...|ART_AND_DESIGN|   4.3| 194216| 39M| 5,000,000+|Free|    0|      Everyone|        Art & Design|  2018-08-03|      2.2.5|      4.0.3|                            false|                 false|                            false|             39.0|\n",
      "|        ibis Paint X|ART_AND_DESIGN|   4.6| 224399| 31M|10,000,000+|Free|    0|      Everyone|        Art & Design|  2018-07-30|      5.5.4|        4.1|                            false|                 false|                            false|             31.0|\n",
      "+--------------------+--------------+------+-------+----+-----------+----+-----+--------------+--------------------+------------+-----------+-----------+---------------------------------+----------------------+---------------------------------+-----------------+\n",
      "only showing top 20 rows\n",
      "\n"
     ]
    }
   ],
   "source": []
  },
  {
   "cell_type": "code",
   "execution_count": 21,
   "metadata": {},
   "outputs": [
    {
     "name": "stderr",
     "output_type": "stream",
     "text": [
      "                                                                                \r"
     ]
    }
   ],
   "source": [
    "\n",
    "csv_path = \"./Data/\"\n",
    "cleaning_data.write.csv(csv_path, header=True, mode = \"overwrite\")\n",
    "\n"
   ]
  },
  {
   "cell_type": "code",
   "execution_count": 22,
   "metadata": {},
   "outputs": [
    {
     "name": "stderr",
     "output_type": "stream",
     "text": [
      "                                                                                \r"
     ]
    }
   ],
   "source": [
    "parquet_path = \"./Data/Parquet_Data/\"\n",
    "cleaning_data.write.parquet(parquet_path, mode=\"overwrite\")"
   ]
  },
  {
   "cell_type": "code",
   "execution_count": 23,
   "metadata": {},
   "outputs": [
    {
     "name": "stderr",
     "output_type": "stream",
     "text": [
      "                                                                                \r"
     ]
    }
   ],
   "source": [
    "cleaning_data.write.format('jdbc').options(url=jdbc_url,driver = 'org.postgresql.Driver', dbtable = 'stagged_google_playstore_data', user='postgres',password='1234').mode('overwrite').save()"
   ]
  },
  {
   "cell_type": "code",
   "execution_count": null,
   "metadata": {},
   "outputs": [],
   "source": []
  },
  {
   "cell_type": "code",
   "execution_count": null,
   "metadata": {},
   "outputs": [],
   "source": []
  }
 ],
 "metadata": {
  "kernelspec": {
   "display_name": ".venv",
   "language": "python",
   "name": "python3"
  },
  "language_info": {
   "codemirror_mode": {
    "name": "ipython",
    "version": 3
   },
   "file_extension": ".py",
   "mimetype": "text/x-python",
   "name": "python",
   "nbconvert_exporter": "python",
   "pygments_lexer": "ipython3",
   "version": "3.10.12"
  }
 },
 "nbformat": 4,
 "nbformat_minor": 2
}
