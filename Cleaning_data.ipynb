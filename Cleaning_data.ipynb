{
 "cells": [
  {
   "cell_type": "code",
   "execution_count": 1,
   "metadata": {},
   "outputs": [],
   "source": [
    "import pyspark.sql.functions as f "
   ]
  },
  {
   "cell_type": "code",
   "execution_count": 2,
   "metadata": {},
   "outputs": [
    {
     "name": "stderr",
     "output_type": "stream",
     "text": [
      "your 131072x1 screen size is bogus. expect trouble\n",
      "23/10/25 09:18:23 WARN Utils: Your hostname, LAPTOP-GRLQJBNM resolves to a loopback address: 127.0.1.1; using 172.27.87.196 instead (on interface eth0)\n",
      "23/10/25 09:18:23 WARN Utils: Set SPARK_LOCAL_IP if you need to bind to another address\n",
      "Setting default log level to \"WARN\".\n",
      "To adjust logging level use sc.setLogLevel(newLevel). For SparkR, use setLogLevel(newLevel).\n",
      "23/10/25 09:18:25 WARN NativeCodeLoader: Unable to load native-hadoop library for your platform... using builtin-java classes where applicable\n"
     ]
    }
   ],
   "source": [
    "from pyspark.sql import SparkSession\n",
    "\n",
    "# Create a Spark session\n",
    "spark = SparkSession.builder.appName(\"CleaningData\")\\\n",
    "    .config('spark.driver.extraClassPath','/usr/lib/jvm/java-17-openjdk-amd64/lib/postgresql-42.6.0.jar')\\\n",
    "    .getOrCreate()"
   ]
  },
  {
   "cell_type": "code",
   "execution_count": 3,
   "metadata": {},
   "outputs": [],
   "source": [
    "from dotenv import load_dotenv\n",
    "import os\n",
    "\n",
    "load_dotenv()\n",
    "\n",
    "user = os.getenv(\"user\")\n",
    "password = os.getenv(\"password\")"
   ]
  },
  {
   "cell_type": "code",
   "execution_count": 4,
   "metadata": {},
   "outputs": [],
   "source": [
    "jdbc_url = \"jdbc:postgresql://localhost:5432/Apps_Database\"\n",
    "\n",
    "connection_properties = {\n",
    "    \"user\": user,\n",
    "    \"password\": password,\n",
    "    \"driver\": \"org.postgresql.Driver\"\n",
    "}\n",
    "\n",
    "uncleaned_data = spark.read.jdbc(url=jdbc_url, table=\"apps_raw_data_table\", properties=connection_properties)\n"
   ]
  },
  {
   "cell_type": "code",
   "execution_count": 5,
   "metadata": {},
   "outputs": [
    {
     "name": "stdout",
     "output_type": "stream",
     "text": [
      "root\n",
      " |-- App: string (nullable = true)\n",
      " |-- Category: string (nullable = true)\n",
      " |-- Rating: string (nullable = true)\n",
      " |-- Reviews: string (nullable = true)\n",
      " |-- Size: string (nullable = true)\n",
      " |-- Installs: string (nullable = true)\n",
      " |-- Type: string (nullable = true)\n",
      " |-- Price: string (nullable = true)\n",
      " |-- Content Rating: string (nullable = true)\n",
      " |-- Genres: string (nullable = true)\n",
      " |-- Last Updated: string (nullable = true)\n",
      " |-- Current Ver: string (nullable = true)\n",
      " |-- Android Ver: string (nullable = true)\n",
      "\n"
     ]
    }
   ],
   "source": [
    "uncleaned_data.printSchema()"
   ]
  },
  {
   "cell_type": "code",
   "execution_count": 6,
   "metadata": {},
   "outputs": [
    {
     "name": "stderr",
     "output_type": "stream",
     "text": [
      "                                                                                \r"
     ]
    },
    {
     "name": "stdout",
     "output_type": "stream",
     "text": [
      "+--------------------+--------------+------+-------+----+-----------+----+-----+--------------+--------------------+------------------+------------------+------------+\n",
      "|                 App|      Category|Rating|Reviews|Size|   Installs|Type|Price|Content Rating|              Genres|      Last Updated|       Current Ver| Android Ver|\n",
      "+--------------------+--------------+------+-------+----+-----------+----+-----+--------------+--------------------+------------------+------------------+------------+\n",
      "|Photo Editor & Ca...|ART_AND_DESIGN|   4.1|    159| 19M|    10,000+|Free|    0|      Everyone|        Art & Design|   January 7, 2018|             1.0.0|4.0.3 and up|\n",
      "| Coloring book moana|ART_AND_DESIGN|   3.9|    967| 14M|   500,000+|Free|    0|      Everyone|Art & Design;Pret...|  January 15, 2018|             2.0.0|4.0.3 and up|\n",
      "|U Launcher Lite –...|ART_AND_DESIGN|   4.7|  87510|8.7M| 5,000,000+|Free|    0|      Everyone|        Art & Design|    August 1, 2018|             1.2.4|4.0.3 and up|\n",
      "|Sketch - Draw & P...|ART_AND_DESIGN|   4.5| 215644| 25M|50,000,000+|Free|    0|          Teen|        Art & Design|      June 8, 2018|Varies with device|  4.2 and up|\n",
      "|Pixel Draw - Numb...|ART_AND_DESIGN|   4.3|    967|2.8M|   100,000+|Free|    0|      Everyone|Art & Design;Crea...|     June 20, 2018|               1.1|  4.4 and up|\n",
      "|Paper flowers ins...|ART_AND_DESIGN|   4.4|    167|5.6M|    50,000+|Free|    0|      Everyone|        Art & Design|    March 26, 2017|               1.0|  2.3 and up|\n",
      "|Smoke Effect Phot...|ART_AND_DESIGN|   3.8|    178| 19M|    50,000+|Free|    0|      Everyone|        Art & Design|    April 26, 2018|               1.1|4.0.3 and up|\n",
      "|    Infinite Painter|ART_AND_DESIGN|   4.1|  36815| 29M| 1,000,000+|Free|    0|      Everyone|        Art & Design|     June 14, 2018|          6.1.61.1|  4.2 and up|\n",
      "|Garden Coloring Book|ART_AND_DESIGN|   4.4|  13791| 33M| 1,000,000+|Free|    0|      Everyone|        Art & Design|September 20, 2017|             2.9.2|  3.0 and up|\n",
      "|Kids Paint Free -...|ART_AND_DESIGN|   4.7|    121|3.1M|    10,000+|Free|    0|      Everyone|Art & Design;Crea...|      July 3, 2018|               2.8|4.0.3 and up|\n",
      "|Text on Photo - F...|ART_AND_DESIGN|   4.4|  13880| 28M| 1,000,000+|Free|    0|      Everyone|        Art & Design|  October 27, 2017|             1.0.4|  4.1 and up|\n",
      "|Name Art Photo Ed...|ART_AND_DESIGN|   4.4|   8788| 12M| 1,000,000+|Free|    0|      Everyone|        Art & Design|     July 31, 2018|            1.0.15|  4.0 and up|\n",
      "|Tattoo Name On My...|ART_AND_DESIGN|   4.2|  44829| 20M|10,000,000+|Free|    0|          Teen|        Art & Design|     April 2, 2018|               3.8|  4.1 and up|\n",
      "|Mandala Coloring ...|ART_AND_DESIGN|   4.6|   4326| 21M|   100,000+|Free|    0|      Everyone|        Art & Design|     June 26, 2018|             1.0.4|  4.4 and up|\n",
      "|3D Color Pixel by...|ART_AND_DESIGN|   4.4|   1518| 37M|   100,000+|Free|    0|      Everyone|        Art & Design|    August 3, 2018|             1.2.3|  2.3 and up|\n",
      "|Learn To Draw Kaw...|ART_AND_DESIGN|   3.2|     55|2.7M|     5,000+|Free|    0|      Everyone|        Art & Design|      June 6, 2018|               NaN|  4.2 and up|\n",
      "|Photo Designer - ...|ART_AND_DESIGN|   4.7|   3632|5.5M|   500,000+|Free|    0|      Everyone|        Art & Design|     July 31, 2018|               3.1|  4.1 and up|\n",
      "|350 Diy Room Deco...|ART_AND_DESIGN|   4.5|     27| 17M|    10,000+|Free|    0|      Everyone|        Art & Design|  November 7, 2017|               1.0|  2.3 and up|\n",
      "|FlipaClip - Carto...|ART_AND_DESIGN|   4.3| 194216| 39M| 5,000,000+|Free|    0|      Everyone|        Art & Design|    August 3, 2018|             2.2.5|4.0.3 and up|\n",
      "|        ibis Paint X|ART_AND_DESIGN|   4.6| 224399| 31M|10,000,000+|Free|    0|      Everyone|        Art & Design|     July 30, 2018|             5.5.4|  4.1 and up|\n",
      "+--------------------+--------------+------+-------+----+-----------+----+-----+--------------+--------------------+------------------+------------------+------------+\n",
      "only showing top 20 rows\n",
      "\n"
     ]
    }
   ],
   "source": [
    "uncleaned_data.show()"
   ]
  },
  {
   "cell_type": "markdown",
   "metadata": {},
   "source": [
    "### Checking for the null values"
   ]
  },
  {
   "cell_type": "code",
   "execution_count": 7,
   "metadata": {},
   "outputs": [
    {
     "name": "stderr",
     "output_type": "stream",
     "text": [
      "[Stage 1:>                                                          (0 + 1) / 1]\r"
     ]
    },
    {
     "name": "stdout",
     "output_type": "stream",
     "text": [
      "+---+--------+------+-------+----+--------+----+-----+--------------+------+------------+-----------+-----------+\n",
      "|App|Category|Rating|Reviews|Size|Installs|Type|Price|Content Rating|Genres|Last Updated|Current Ver|Android Ver|\n",
      "+---+--------+------+-------+----+--------+----+-----+--------------+------+------------+-----------+-----------+\n",
      "|  0|       0|  1474|      0|   0|       0|   1|    0|             1|     0|           0|          8|          3|\n",
      "+---+--------+------+-------+----+--------+----+-----+--------------+------+------------+-----------+-----------+\n",
      "\n"
     ]
    },
    {
     "name": "stderr",
     "output_type": "stream",
     "text": [
      "                                                                                \r"
     ]
    }
   ],
   "source": [
    "# Checking for the count of  null values present in all the columns\n",
    "\n",
    "uncleaned_data.select([f.count(f.when(f.isnan(c) | f.col(c).isNull(), c)).alias(c) for c in uncleaned_data.columns]).show()"
   ]
  },
  {
   "cell_type": "code",
   "execution_count": 13,
   "metadata": {},
   "outputs": [],
   "source": [
    "uncleaned_data = uncleaned_data.withColumn(\"Rating\", f.when(f.col(\"Rating\") == \"NaN\", \"0.0\").otherwise(f.col(\"Rating\")))"
   ]
  },
  {
   "cell_type": "code",
   "execution_count": 14,
   "metadata": {},
   "outputs": [
    {
     "name": "stdout",
     "output_type": "stream",
     "text": [
      "+--------------------+-----------------+------+-------+------------------+-----------+----+-----+--------------+--------------------+------------------+------------------+------------------+\n",
      "|                 App|         Category|Rating|Reviews|              Size|   Installs|Type|Price|Content Rating|              Genres|      Last Updated|       Current Ver|       Android Ver|\n",
      "+--------------------+-----------------+------+-------+------------------+-----------+----+-----+--------------+--------------------+------------------+------------------+------------------+\n",
      "|Photo Editor & Ca...|   ART_AND_DESIGN|   4.1|    159|               19M|    10,000+|Free|    0|      Everyone|        Art & Design|   January 7, 2018|             1.0.0|      4.0.3 and up|\n",
      "| Coloring book moana|   ART_AND_DESIGN|   3.9|    967|               14M|   500,000+|Free|    0|      Everyone|Art & Design;Pret...|  January 15, 2018|             2.0.0|      4.0.3 and up|\n",
      "|U Launcher Lite –...|   ART_AND_DESIGN|   4.7|  87510|              8.7M| 5,000,000+|Free|    0|      Everyone|        Art & Design|    August 1, 2018|             1.2.4|      4.0.3 and up|\n",
      "|Sketch - Draw & P...|   ART_AND_DESIGN|   4.5| 215644|               25M|50,000,000+|Free|    0|          Teen|        Art & Design|      June 8, 2018|Varies with device|        4.2 and up|\n",
      "|Pixel Draw - Numb...|   ART_AND_DESIGN|   4.3|    967|              2.8M|   100,000+|Free|    0|      Everyone|Art & Design;Crea...|     June 20, 2018|               1.1|        4.4 and up|\n",
      "|Paper flowers ins...|   ART_AND_DESIGN|   4.4|    167|              5.6M|    50,000+|Free|    0|      Everyone|        Art & Design|    March 26, 2017|               1.0|        2.3 and up|\n",
      "|Smoke Effect Phot...|   ART_AND_DESIGN|   3.8|    178|               19M|    50,000+|Free|    0|      Everyone|        Art & Design|    April 26, 2018|               1.1|      4.0.3 and up|\n",
      "|    Infinite Painter|   ART_AND_DESIGN|   4.1|  36815|               29M| 1,000,000+|Free|    0|      Everyone|        Art & Design|     June 14, 2018|          6.1.61.1|        4.2 and up|\n",
      "|Garden Coloring Book|   ART_AND_DESIGN|   4.4|  13791|               33M| 1,000,000+|Free|    0|      Everyone|        Art & Design|September 20, 2017|             2.9.2|        3.0 and up|\n",
      "|Kids Paint Free -...|   ART_AND_DESIGN|   4.7|    121|              3.1M|    10,000+|Free|    0|      Everyone|Art & Design;Crea...|      July 3, 2018|               2.8|      4.0.3 and up|\n",
      "|Text on Photo - F...|   ART_AND_DESIGN|   4.4|  13880|               28M| 1,000,000+|Free|    0|      Everyone|        Art & Design|  October 27, 2017|             1.0.4|        4.1 and up|\n",
      "|Name Art Photo Ed...|   ART_AND_DESIGN|   4.4|   8788|               12M| 1,000,000+|Free|    0|      Everyone|        Art & Design|     July 31, 2018|            1.0.15|        4.0 and up|\n",
      "|Tattoo Name On My...|   ART_AND_DESIGN|   4.2|  44829|               20M|10,000,000+|Free|    0|          Teen|        Art & Design|     April 2, 2018|               3.8|        4.1 and up|\n",
      "|Mandala Coloring ...|   ART_AND_DESIGN|   4.6|   4326|               21M|   100,000+|Free|    0|      Everyone|        Art & Design|     June 26, 2018|             1.0.4|        4.4 and up|\n",
      "|3D Color Pixel by...|   ART_AND_DESIGN|   4.4|   1518|               37M|   100,000+|Free|    0|      Everyone|        Art & Design|    August 3, 2018|             1.2.3|        2.3 and up|\n",
      "|Learn To Draw Kaw...|   ART_AND_DESIGN|   3.2|     55|              2.7M|     5,000+|Free|    0|      Everyone|        Art & Design|      June 6, 2018|               NaN|        4.2 and up|\n",
      "|Photo Designer - ...|   ART_AND_DESIGN|   4.7|   3632|              5.5M|   500,000+|Free|    0|      Everyone|        Art & Design|     July 31, 2018|               3.1|        4.1 and up|\n",
      "|350 Diy Room Deco...|   ART_AND_DESIGN|   4.5|     27|               17M|    10,000+|Free|    0|      Everyone|        Art & Design|  November 7, 2017|               1.0|        2.3 and up|\n",
      "|FlipaClip - Carto...|   ART_AND_DESIGN|   4.3| 194216|               39M| 5,000,000+|Free|    0|      Everyone|        Art & Design|    August 3, 2018|             2.2.5|      4.0.3 and up|\n",
      "|        ibis Paint X|   ART_AND_DESIGN|   4.6| 224399|               31M|10,000,000+|Free|    0|      Everyone|        Art & Design|     July 30, 2018|             5.5.4|        4.1 and up|\n",
      "|Logo Maker - Smal...|   ART_AND_DESIGN|   4.0|    450|               14M|   100,000+|Free|    0|      Everyone|        Art & Design|    April 20, 2018|               4.0|        4.1 and up|\n",
      "|Boys Photo Editor...|   ART_AND_DESIGN|   4.1|    654|               12M|   100,000+|Free|    0|      Everyone|        Art & Design|    March 20, 2018|               1.1|      4.0.3 and up|\n",
      "|Superheroes Wallp...|   ART_AND_DESIGN|   4.7|   7699|              4.2M|   500,000+|Free|    0|  Everyone 10+|        Art & Design|     July 12, 2018|           2.2.6.2|      4.0.3 and up|\n",
      "|Mcqueen Coloring ...|   ART_AND_DESIGN|     0|     61|              7.0M|   100,000+|Free|    0|      Everyone|Art & Design;Acti...|     March 7, 2018|             1.0.0|        4.1 and up|\n",
      "|HD Mickey Minnie ...|   ART_AND_DESIGN|   4.7|    118|               23M|    50,000+|Free|    0|      Everyone|        Art & Design|      July 7, 2018|             1.1.3|        4.1 and up|\n",
      "|Harley Quinn wall...|   ART_AND_DESIGN|   4.8|    192|              6.0M|    10,000+|Free|    0|      Everyone|        Art & Design|    April 25, 2018|               1.5|        3.0 and up|\n",
      "|Colorfit - Drawin...|   ART_AND_DESIGN|   4.7|  20260|               25M|   500,000+|Free|    0|      Everyone|Art & Design;Crea...|  October 11, 2017|             1.0.8|      4.0.3 and up|\n",
      "|Animated Photo Ed...|   ART_AND_DESIGN|   4.1|    203|              6.1M|   100,000+|Free|    0|      Everyone|        Art & Design|    March 21, 2018|              1.03|      4.0.3 and up|\n",
      "|Pencil Sketch Dra...|   ART_AND_DESIGN|   3.9|    136|              4.6M|    10,000+|Free|    0|      Everyone|        Art & Design|     July 12, 2018|               6.0|        2.3 and up|\n",
      "|Easy Realistic Dr...|   ART_AND_DESIGN|   4.1|    223|              4.2M|   100,000+|Free|    0|      Everyone|        Art & Design|   August 22, 2017|               1.0|        2.3 and up|\n",
      "|Pink Silver Bow K...|   ART_AND_DESIGN|   4.2|   1120|              9.2M|   100,000+|Free|    0|      Everyone|        Art & Design|     July 12, 2018|       6.7.12.2018|      4.0.3 and up|\n",
      "|   Art Drawing Ideas|   ART_AND_DESIGN|   4.1|    227|              5.2M|    50,000+|Free|    0|      Everyone|        Art & Design|      May 31, 2018|               1.2|        2.3 and up|\n",
      "|Anime Manga Color...|   ART_AND_DESIGN|   4.5|   5035|               11M|   100,000+|Free|    0|      Everyone|        Art & Design|     July 19, 2018|              2.20|        4.0 and up|\n",
      "|  Easy Origami Ideas|   ART_AND_DESIGN|   4.2|   1015|               11M|   100,000+|Free|    0|      Everyone|        Art & Design|   January 6, 2018|             1.1.0|        4.1 and up|\n",
      "|     I Creative Idea|   ART_AND_DESIGN|   4.7|    353|              4.2M|    10,000+|Free|    0|          Teen|        Art & Design|    April 27, 2018|               1.6|        4.1 and up|\n",
      "|How to draw Ladyb...|   ART_AND_DESIGN|   3.8|    564|              9.2M|   100,000+|Free|    0|      Everyone|        Art & Design|     July 11, 2018|               2.1|        4.1 and up|\n",
      "|UNICORN - Color B...|   ART_AND_DESIGN|   4.7|   8145|               24M|   500,000+|Free|    0|      Everyone|Art & Design;Crea...|    August 2, 2018|             1.0.9|        4.4 and up|\n",
      "|  Floor Plan Creator|   ART_AND_DESIGN|   4.1|  36639|Varies with device| 5,000,000+|Free|    0|      Everyone|        Art & Design|     July 14, 2018|Varies with device|      2.3.3 and up|\n",
      "|PIP Camera - PIP ...|   ART_AND_DESIGN|   4.7|    158|               11M|    10,000+|Free|    0|      Everyone|        Art & Design| November 29, 2017|               1.3|      4.0.3 and up|\n",
      "|How To Color Disn...|   ART_AND_DESIGN|   4.0|    591|              9.4M|   500,000+|Free|    0|      Everyone|        Art & Design|    March 31, 2018|                 1|        4.0 and up|\n",
      "|Drawing Clothes F...|   ART_AND_DESIGN|   4.2|    117|               15M|    10,000+|Free|    0|      Everyone|        Art & Design|     July 20, 2018|             2.0.1|      4.0.3 and up|\n",
      "|Sad Poetry Photo ...|   ART_AND_DESIGN|   4.5|    176|               10M|   100,000+|Free|    0|      Everyone|        Art & Design|     April 2, 2018|               1.0|      4.0.3 and up|\n",
      "|Textgram - write ...|   ART_AND_DESIGN|   4.4| 295221|Varies with device|10,000,000+|Free|    0|      Everyone|        Art & Design|     July 30, 2018|Varies with device|Varies with device|\n",
      "|       Paint Splash!|   ART_AND_DESIGN|   3.8|   2206|              1.2M|   100,000+|Free|    0|      Everyone|Art & Design;Crea...|    April 15, 2018|              1.46|        4.1 and up|\n",
      "|Popsicle Sticks a...|   ART_AND_DESIGN|   4.2|     26|               12M|    10,000+|Free|    0|      Everyone|        Art & Design|   January 3, 2018|             1.0.0|        4.1 and up|\n",
      "|Canva: Poster, ba...|   ART_AND_DESIGN|   4.7| 174531|               24M|10,000,000+|Free|    0|      Everyone|        Art & Design|     July 31, 2018|             1.6.1|        4.1 and up|\n",
      "|Install images wi...|   ART_AND_DESIGN|   4.6|   1070|               26M|   100,000+|Free|    0|      Everyone|        Art & Design| November 14, 2017|               1.6|        4.1 and up|\n",
      "|Little Teddy Bear...|   ART_AND_DESIGN|   4.2|     85|              8.0M|   100,000+|Free|    0|      Everyone|        Art & Design| December 17, 2017|             2.0.0|        4.1 and up|\n",
      "|    How To Draw Food|   ART_AND_DESIGN|   4.3|    845|              7.9M|   100,000+|Free|    0|      Everyone|        Art & Design|      May 28, 2018|               1.0|        2.3 and up|\n",
      "|JoJo Siwa Top Hit...|           DATING|     0|      0|              4.9M|        10+|Free|    0|          Teen|              Dating|     July 26, 2018|               1.0|      4.0.3 and up|\n",
      "|Monster Truck Stu...|AUTO_AND_VEHICLES|   4.2|    367|               25M|   100,000+|Free|    0|      Everyone|     Auto & Vehicles|      May 10, 2018|               1.0|      4.0.3 and up|\n",
      "|Real Tractor Farming|AUTO_AND_VEHICLES|   4.0|   1598|               56M| 1,000,000+|Free|    0|      Everyone|     Auto & Vehicles|     July 26, 2018|              11.0|        4.1 and up|\n",
      "|Ultimate F1 Racin...|AUTO_AND_VEHICLES|   3.8|    284|               57M|   100,000+|Free|    0|      Everyone|     Auto & Vehicles|     July 26, 2018|               3.0|        4.1 and up|\n",
      "|Used Cars and Tru...|AUTO_AND_VEHICLES|   4.6|  17057|Varies with device| 1,000,000+|Free|    0|      Everyone|     Auto & Vehicles|     July 30, 2018|Varies with device|Varies with device|\n",
      "|American Muscle C...|AUTO_AND_VEHICLES|   3.9|    129|               35M|   100,000+|Free|    0|      Everyone|     Auto & Vehicles|     July 26, 2018|               3.0|        4.1 and up|\n",
      "|Offroad Oil Tanke...|AUTO_AND_VEHICLES|   4.3|    542|               33M|   100,000+|Free|    0|      Everyone|     Auto & Vehicles|     July 31, 2018|               4.0|        4.1 and up|\n",
      "|Tickets SDA 2018 ...|AUTO_AND_VEHICLES|   4.9|  10479|               33M|   100,000+|Free|    0|      Everyone|     Auto & Vehicles|     July 18, 2018|             1.7.1|        4.0 and up|\n",
      "|Gas Prices (Germa...|AUTO_AND_VEHICLES|   4.4|    805|              5.6M|    50,000+|Free|    0|      Everyone|     Auto & Vehicles|     July 29, 2018|             2.5.1|        4.4 and up|\n",
      "|Extreme Rally Cha...|AUTO_AND_VEHICLES|   4.2|    129|               54M|   100,000+|Free|    0|      Everyone|     Auto & Vehicles|     July 26, 2018|               3.0|        4.1 and up|\n",
      "|   Restart Navigator|AUTO_AND_VEHICLES|   4.0|   1403|              201k|   100,000+|Free|    0|      Everyone|     Auto & Vehicles|   August 26, 2014|             1.0.1|        2.2 and up|\n",
      "|REG - Check the r...|AUTO_AND_VEHICLES|   3.9|   3971|              3.6M|   100,000+|Free|    0|      Everyone|     Auto & Vehicles|     July 30, 2018|             2.493|        4.4 and up|\n",
      "|        CityBus Lviv|AUTO_AND_VEHICLES|   4.6|    534|              5.7M|    10,000+|Free|    0|      Everyone|     Auto & Vehicles|      July 8, 2018|             1.9.1|      4.0.3 and up|\n",
      "|CDL Practice Test...|AUTO_AND_VEHICLES|   4.9|   7774|               17M|   100,000+|Free|    0|      Everyone|     Auto & Vehicles|      July 3, 2018|               1.7|        4.2 and up|\n",
      "|ezETC (ETC balanc...|AUTO_AND_VEHICLES|   4.3|  38846|              8.6M| 1,000,000+|Free|    0|      Everyone|     Auto & Vehicles|     July 28, 2018|     2.20 Build 02|        4.1 and up|\n",
      "|Free VIN Report f...|AUTO_AND_VEHICLES|   4.6|   2431|              2.4M|   100,000+|Free|    0|      Everyone|     Auto & Vehicles|     June 12, 2018|              1.37|        4.0 and up|\n",
      "|DMV Permit Practi...|AUTO_AND_VEHICLES|   4.9|   6090|               27M|   100,000+|Free|    0|      Everyone|     Auto & Vehicles|      July 3, 2018|               1.7|        4.2 and up|\n",
      "|   Check Vehicle Tax|AUTO_AND_VEHICLES|   3.9|    295|              2.7M|    10,000+|Free|    0|      Everyone|     Auto & Vehicles|     July 30, 2018|             0.2.1|        4.4 and up|\n",
      "|    Used Cars Mexico|AUTO_AND_VEHICLES|   4.0|    190|              2.5M|    50,000+|Free|    0|      Everyone|     Auto & Vehicles|  October 14, 2016|               1.0|        2.3 and up|\n",
      "|  Ulysse Speedometer|AUTO_AND_VEHICLES|   4.3|  40211|Varies with device| 5,000,000+|Free|    0|      Everyone|     Auto & Vehicles|     July 30, 2018|Varies with device|Varies with device|\n",
      "|              REPUVE|AUTO_AND_VEHICLES|   3.9|    356|Varies with device|   100,000+|Free|    0|      Everyone|     Auto & Vehicles|      May 25, 2018|Varies with device|Varies with device|\n",
      "|Used cars for sal...|AUTO_AND_VEHICLES|   4.2|  52530|              7.0M| 5,000,000+|Free|    0|      Everyone|     Auto & Vehicles|     July 16, 2018|            4.47.3|      4.0.3 and up|\n",
      "|Fines of the Stat...|AUTO_AND_VEHICLES|   4.8| 116986|               35M| 5,000,000+|Free|    0|      Everyone|     Auto & Vehicles|    August 2, 2018|             1.9.7|      4.0.3 and up|\n",
      "|SK Enca Direct Ma...|AUTO_AND_VEHICLES|   3.6|   1379|               16M|   500,000+|Free|    0|      Everyone|     Auto & Vehicles|    August 2, 2018|            2.2.21|        4.2 and up|\n",
      "|Android Auto - Ma...|AUTO_AND_VEHICLES|   4.2| 271920|               16M|10,000,000+|Free|    0|          Teen|     Auto & Vehicles|     July 11, 2018|Varies with device|        5.0 and up|\n",
      "|              PDD-UA|AUTO_AND_VEHICLES|   4.8|    736|Varies with device|   100,000+|Free|    0|      Everyone|     Auto & Vehicles|     July 29, 2018|               2.9|      2.3.3 and up|\n",
      "|Tickets SDA 2019 ...|AUTO_AND_VEHICLES|   4.8|   7021|               17M|   500,000+|Free|    0|      Everyone|     Auto & Vehicles|     July 27, 2018|              1.79|        4.0 and up|\n",
      "|Super Cars Wallpa...|AUTO_AND_VEHICLES|   4.6|    197|              3.4M|    50,000+|Free|    0|      Everyone|     Auto & Vehicles|     June 14, 2018|               1.3|        4.0 and up|\n",
      "|Police Lights, Si...|AUTO_AND_VEHICLES|   4.5|    737|              8.9M|   100,000+|Free|    0|      Everyone|     Auto & Vehicles|      June 8, 2018|           2.3.5.1|        4.1 and up|\n",
      "|Police Detector (...|AUTO_AND_VEHICLES|   4.3|   3574|              3.9M| 1,000,000+|Free|    0|  Everyone 10+|     Auto & Vehicles|      July 4, 2018|               1.6|        4.0 and up|\n",
      "| Best Car Wallpapers|AUTO_AND_VEHICLES|   4.5|    994|              2.9M|   100,000+|Free|    0|      Everyone|     Auto & Vehicles|    March 27, 2018|               1.6|        4.1 and up|\n",
      "|Tickets + PDA 201...|AUTO_AND_VEHICLES|   4.9| 197136|               38M| 1,000,000+|Free|    0|      Everyone|     Auto & Vehicles|     July 15, 2018|              8.31|        4.1 and up|\n",
      "|Pick Your Part Ga...|AUTO_AND_VEHICLES|   3.9|    142|               32M|    50,000+|Free|    0|      Everyone|     Auto & Vehicles|     July 24, 2018|           1.1.5.0|        6.0 and up|\n",
      "|PakWheels: Buy & ...|AUTO_AND_VEHICLES|   4.4|  15168|               37M| 1,000,000+|Free|    0|      Everyone|     Auto & Vehicles|     July 27, 2018|            10.0.2|        4.2 and up|\n",
      "| Supervision service|AUTO_AND_VEHICLES|   4.0|   2155|               15M|   500,000+|Free|    0|      Everyone|     Auto & Vehicles|     July 30, 2018|            1.10.3|        5.0 and up|\n",
      "|Speed Camera Dete...|AUTO_AND_VEHICLES|   4.3|    138|              5.4M|   100,000+|Free|    0|      Everyone|     Auto & Vehicles|     July 23, 2018|               1.0|      4.0.3 and up|\n",
      "|Used car search G...|AUTO_AND_VEHICLES|   3.7|   5414|               18M| 1,000,000+|Free|    0|      Everyone|     Auto & Vehicles|     July 23, 2018|            3.20.1|        4.4 and up|\n",
      "|CarMax – Cars for...|AUTO_AND_VEHICLES|   4.4|  21777|Varies with device| 1,000,000+|Free|    0|      Everyone|     Auto & Vehicles|    August 4, 2018|Varies with device|Varies with device|\n",
      "|     BEST CAR SOUNDS|AUTO_AND_VEHICLES|   4.3|    348|               38M|   100,000+|Free|    0|      Everyone|     Auto & Vehicles|     July 29, 2018|             1.0.3|        2.3 and up|\n",
      "|RST - Sale of car...|AUTO_AND_VEHICLES|   3.2|    250|              1.1M|   100,000+|Free|    0|      Everyone|     Auto & Vehicles|    April 27, 2018|               1.4|      4.0.3 and up|\n",
      "|AutoScout24 Switz...|AUTO_AND_VEHICLES|   4.6|  13372|Varies with device| 1,000,000+|Free|    0|      Everyone|     Auto & Vehicles|    August 3, 2018|Varies with device|Varies with device|\n",
      "|Zona Azul Digital...|AUTO_AND_VEHICLES|   4.6|   7880|Varies with device|   100,000+|Free|    0|      Everyone|     Auto & Vehicles|      May 10, 2018|             4.6.5|Varies with device|\n",
      "|            SMS Park|AUTO_AND_VEHICLES|   4.5|   3617|              7.9M|   100,000+|Free|    0|      Everyone|     Auto & Vehicles|      May 16, 2018|             2.8.2|        4.1 and up|\n",
      "|             SKencar|AUTO_AND_VEHICLES|   3.7|   4806|               35M| 1,000,000+|Free|    0|      Everyone|     Auto & Vehicles|     July 31, 2018|             4.0.3|      4.0.3 and up|\n",
      "|Fuelio: Gas log &...|AUTO_AND_VEHICLES|   4.6|  65786|Varies with device| 1,000,000+|Free|    0|      Everyone|     Auto & Vehicles|    August 2, 2018|Varies with device|      4.0.3 and up|\n",
      "|          auto fines|AUTO_AND_VEHICLES|   4.6|  31433|               17M| 1,000,000+|Free|    0|      Everyone|     Auto & Vehicles|    August 2, 2018|              1.40|      4.0.3 and up|\n",
      "|Used car is the f...|AUTO_AND_VEHICLES|   4.6|   5097|               19M| 1,000,000+|Free|    0|      Everyone|     Auto & Vehicles|     July 23, 2018|            1.5.18|      4.0.3 and up|\n",
      "|UK Girls Mobile N...|           DATING|   3.0|      1|              5.5M|       500+|Free|    0|    Mature 17+|              Dating|     July 19, 2018|               1.0|      4.0.3 and up|\n",
      "|All of the parkin...|AUTO_AND_VEHICLES|   4.0|   1754|               14M|   500,000+|Free|    0|      Everyone|     Auto & Vehicles|      June 2, 2018|             2.3.4|        4.0 and up|\n",
      "|Inquiry Fines and...|AUTO_AND_VEHICLES|   4.4|   2680|              2.2M|   500,000+|Free|    0|      Everyone|     Auto & Vehicles|    March 20, 2018|              1.03|      4.0.3 and up|\n",
      "|         Gas Station|AUTO_AND_VEHICLES|   4.0|   1288|              4.5M|   100,000+|Free|    0|      Everyone|     Auto & Vehicles|    April 21, 2018|              2.17|        4.0 and up|\n",
      "+--------------------+-----------------+------+-------+------------------+-----------+----+-----+--------------+--------------------+------------------+------------------+------------------+\n",
      "only showing top 100 rows\n",
      "\n"
     ]
    }
   ],
   "source": [
    "uncleaned_data.show(100)"
   ]
  },
  {
   "cell_type": "code",
   "execution_count": 18,
   "metadata": {},
   "outputs": [
    {
     "name": "stderr",
     "output_type": "stream",
     "text": [
      "[Stage 12:>                                                         (0 + 1) / 1]\r"
     ]
    },
    {
     "name": "stdout",
     "output_type": "stream",
     "text": [
      "+---+--------+------+-------+----+--------+----+-----+--------------+------+------------+-----------+-----------+\n",
      "|App|Category|Rating|Reviews|Size|Installs|Type|Price|Content Rating|Genres|Last Updated|Current Ver|Android Ver|\n",
      "+---+--------+------+-------+----+--------+----+-----+--------------+------+------------+-----------+-----------+\n",
      "|  0|       0|     0|      0|   0|       0|   1|    0|             1|     0|           0|          8|          3|\n",
      "+---+--------+------+-------+----+--------+----+-----+--------------+------+------------+-----------+-----------+\n",
      "\n"
     ]
    },
    {
     "name": "stderr",
     "output_type": "stream",
     "text": [
      "                                                                                \r"
     ]
    }
   ],
   "source": [
    "uncleaned_data.select([f.count(f.when(f.isnan(c) | f.col(c).isNull(), c)).alias(c) for c in uncleaned_data.columns]).show()"
   ]
  },
  {
   "cell_type": "code",
   "execution_count": 16,
   "metadata": {},
   "outputs": [
    {
     "name": "stdout",
     "output_type": "stream",
     "text": [
      "+--------------------+--------------+------+-------+----+----------+----+-----+--------------+--------------------+------------------+------------------+------------+\n",
      "|                 App|      Category|Rating|Reviews|Size|  Installs|Type|Price|Content Rating|              Genres|      Last Updated|       Current Ver| Android Ver|\n",
      "+--------------------+--------------+------+-------+----+----------+----+-----+--------------+--------------------+------------------+------------------+------------+\n",
      "|Photo Editor & Ca...|ART_AND_DESIGN|   4.1|    159| 19M|    10,000|Free|    0|      Everyone|        Art & Design|   January 7, 2018|             1.0.0|4.0.3 and up|\n",
      "| Coloring book moana|ART_AND_DESIGN|   3.9|    967| 14M|   500,000|Free|    0|      Everyone|Art & Design;Pret...|  January 15, 2018|             2.0.0|4.0.3 and up|\n",
      "|U Launcher Lite –...|ART_AND_DESIGN|   4.7|  87510|8.7M| 5,000,000|Free|    0|      Everyone|        Art & Design|    August 1, 2018|             1.2.4|4.0.3 and up|\n",
      "|Sketch - Draw & P...|ART_AND_DESIGN|   4.5| 215644| 25M|50,000,000|Free|    0|          Teen|        Art & Design|      June 8, 2018|Varies with device|  4.2 and up|\n",
      "|Pixel Draw - Numb...|ART_AND_DESIGN|   4.3|    967|2.8M|   100,000|Free|    0|      Everyone|Art & Design;Crea...|     June 20, 2018|               1.1|  4.4 and up|\n",
      "|Paper flowers ins...|ART_AND_DESIGN|   4.4|    167|5.6M|    50,000|Free|    0|      Everyone|        Art & Design|    March 26, 2017|               1.0|  2.3 and up|\n",
      "|Smoke Effect Phot...|ART_AND_DESIGN|   3.8|    178| 19M|    50,000|Free|    0|      Everyone|        Art & Design|    April 26, 2018|               1.1|4.0.3 and up|\n",
      "|    Infinite Painter|ART_AND_DESIGN|   4.1|  36815| 29M| 1,000,000|Free|    0|      Everyone|        Art & Design|     June 14, 2018|          6.1.61.1|  4.2 and up|\n",
      "|Garden Coloring Book|ART_AND_DESIGN|   4.4|  13791| 33M| 1,000,000|Free|    0|      Everyone|        Art & Design|September 20, 2017|             2.9.2|  3.0 and up|\n",
      "|Kids Paint Free -...|ART_AND_DESIGN|   4.7|    121|3.1M|    10,000|Free|    0|      Everyone|Art & Design;Crea...|      July 3, 2018|               2.8|4.0.3 and up|\n",
      "|Text on Photo - F...|ART_AND_DESIGN|   4.4|  13880| 28M| 1,000,000|Free|    0|      Everyone|        Art & Design|  October 27, 2017|             1.0.4|  4.1 and up|\n",
      "|Name Art Photo Ed...|ART_AND_DESIGN|   4.4|   8788| 12M| 1,000,000|Free|    0|      Everyone|        Art & Design|     July 31, 2018|            1.0.15|  4.0 and up|\n",
      "|Tattoo Name On My...|ART_AND_DESIGN|   4.2|  44829| 20M|10,000,000|Free|    0|          Teen|        Art & Design|     April 2, 2018|               3.8|  4.1 and up|\n",
      "|Mandala Coloring ...|ART_AND_DESIGN|   4.6|   4326| 21M|   100,000|Free|    0|      Everyone|        Art & Design|     June 26, 2018|             1.0.4|  4.4 and up|\n",
      "|3D Color Pixel by...|ART_AND_DESIGN|   4.4|   1518| 37M|   100,000|Free|    0|      Everyone|        Art & Design|    August 3, 2018|             1.2.3|  2.3 and up|\n",
      "|Learn To Draw Kaw...|ART_AND_DESIGN|   3.2|     55|2.7M|     5,000|Free|    0|      Everyone|        Art & Design|      June 6, 2018|               NaN|  4.2 and up|\n",
      "|Photo Designer - ...|ART_AND_DESIGN|   4.7|   3632|5.5M|   500,000|Free|    0|      Everyone|        Art & Design|     July 31, 2018|               3.1|  4.1 and up|\n",
      "|350 Diy Room Deco...|ART_AND_DESIGN|   4.5|     27| 17M|    10,000|Free|    0|      Everyone|        Art & Design|  November 7, 2017|               1.0|  2.3 and up|\n",
      "|FlipaClip - Carto...|ART_AND_DESIGN|   4.3| 194216| 39M| 5,000,000|Free|    0|      Everyone|        Art & Design|    August 3, 2018|             2.2.5|4.0.3 and up|\n",
      "|        ibis Paint X|ART_AND_DESIGN|   4.6| 224399| 31M|10,000,000|Free|    0|      Everyone|        Art & Design|     July 30, 2018|             5.5.4|  4.1 and up|\n",
      "+--------------------+--------------+------+-------+----+----------+----+-----+--------------+--------------------+------------------+------------------+------------+\n",
      "only showing top 20 rows\n",
      "\n"
     ]
    }
   ],
   "source": [
    "# Removing + from installs\n",
    "\n",
    "uncleaned_data = uncleaned_data.withColumn(\"Installs\", f.regexp_replace(f.col(\"Installs\"), \"\\\\+\", \"\"))\n",
    "uncleaned_data.show()"
   ]
  },
  {
   "cell_type": "code",
   "execution_count": 17,
   "metadata": {},
   "outputs": [],
   "source": [
    "uncleaned_data = uncleaned_data.na.drop(subset=[\"Type\"])"
   ]
  },
  {
   "cell_type": "code",
   "execution_count": 19,
   "metadata": {},
   "outputs": [
    {
     "name": "stderr",
     "output_type": "stream",
     "text": [
      "[Stage 15:>                                                         (0 + 1) / 1]\r"
     ]
    },
    {
     "name": "stdout",
     "output_type": "stream",
     "text": [
      "+---+--------+------+-------+----+--------+----+-----+--------------+------+------------+-----------+-----------+\n",
      "|App|Category|Rating|Reviews|Size|Installs|Type|Price|Content Rating|Genres|Last Updated|Current Ver|Android Ver|\n",
      "+---+--------+------+-------+----+--------+----+-----+--------------+------+------------+-----------+-----------+\n",
      "|  0|       0|     0|      0|   0|       0|   1|    0|             1|     0|           0|          8|          3|\n",
      "+---+--------+------+-------+----+--------+----+-----+--------------+------+------------+-----------+-----------+\n",
      "\n"
     ]
    },
    {
     "name": "stderr",
     "output_type": "stream",
     "text": [
      "                                                                                \r"
     ]
    }
   ],
   "source": [
    "uncleaned_data.select([f.count(f.when(f.isnan(c) | f.col(c).isNull(), c)).alias(c) for c in uncleaned_data.columns]).show()"
   ]
  },
  {
   "cell_type": "code",
   "execution_count": 24,
   "metadata": {},
   "outputs": [],
   "source": [
    "testing_data = uncleaned_data.na.drop(how=\"any\")\n",
    "check = testing_data.select([f.count(f.when(f.isnan(c) | f.col(c).isNull(), c)).alias(c) for c in testing_data.columns])"
   ]
  },
  {
   "cell_type": "code",
   "execution_count": 25,
   "metadata": {},
   "outputs": [
    {
     "name": "stdout",
     "output_type": "stream",
     "text": [
      "+---+--------+------+-------+----+--------+----+-----+--------------+------+------------+-----------+-----------+\n",
      "|App|Category|Rating|Reviews|Size|Installs|Type|Price|Content Rating|Genres|Last Updated|Current Ver|Android Ver|\n",
      "+---+--------+------+-------+----+--------+----+-----+--------------+------+------------+-----------+-----------+\n",
      "|  0|       0|     0|      0|   0|       0|   1|    0|             0|     0|           0|          7|          2|\n",
      "+---+--------+------+-------+----+--------+----+-----+--------------+------+------------+-----------+-----------+\n",
      "\n"
     ]
    }
   ],
   "source": [
    "check.show()"
   ]
  },
  {
   "cell_type": "code",
   "execution_count": 29,
   "metadata": {},
   "outputs": [
    {
     "name": "stderr",
     "output_type": "stream",
     "text": [
      "                                                                                \r"
     ]
    },
    {
     "name": "stdout",
     "output_type": "stream",
     "text": [
      "+--------------------+--------------+------+-------+----+----------+----+-----+--------------+--------------------+------------------+------------------+------------+\n",
      "|                 App|      Category|Rating|Reviews|Size|  Installs|Type|Price|Content Rating|              Genres|      Last Updated|       Current Ver| Android Ver|\n",
      "+--------------------+--------------+------+-------+----+----------+----+-----+--------------+--------------------+------------------+------------------+------------+\n",
      "|Photo Editor & Ca...|ART_AND_DESIGN|   4.1|    159| 19M|    10,000|Free|    0|      Everyone|        Art & Design|   January 7, 2018|             1.0.0|4.0.3 and up|\n",
      "| Coloring book moana|ART_AND_DESIGN|   3.9|    967| 14M|   500,000|Free|    0|      Everyone|Art & Design;Pret...|  January 15, 2018|             2.0.0|4.0.3 and up|\n",
      "|U Launcher Lite –...|ART_AND_DESIGN|   4.7|  87510|8.7M| 5,000,000|Free|    0|      Everyone|        Art & Design|    August 1, 2018|             1.2.4|4.0.3 and up|\n",
      "|Sketch - Draw & P...|ART_AND_DESIGN|   4.5| 215644| 25M|50,000,000|Free|    0|          Teen|        Art & Design|      June 8, 2018|Varies with device|  4.2 and up|\n",
      "|Pixel Draw - Numb...|ART_AND_DESIGN|   4.3|    967|2.8M|   100,000|Free|    0|      Everyone|Art & Design;Crea...|     June 20, 2018|               1.1|  4.4 and up|\n",
      "|Paper flowers ins...|ART_AND_DESIGN|   4.4|    167|5.6M|    50,000|Free|    0|      Everyone|        Art & Design|    March 26, 2017|               1.0|  2.3 and up|\n",
      "|Smoke Effect Phot...|ART_AND_DESIGN|   3.8|    178| 19M|    50,000|Free|    0|      Everyone|        Art & Design|    April 26, 2018|               1.1|4.0.3 and up|\n",
      "|    Infinite Painter|ART_AND_DESIGN|   4.1|  36815| 29M| 1,000,000|Free|    0|      Everyone|        Art & Design|     June 14, 2018|          6.1.61.1|  4.2 and up|\n",
      "|Garden Coloring Book|ART_AND_DESIGN|   4.4|  13791| 33M| 1,000,000|Free|    0|      Everyone|        Art & Design|September 20, 2017|             2.9.2|  3.0 and up|\n",
      "|Kids Paint Free -...|ART_AND_DESIGN|   4.7|    121|3.1M|    10,000|Free|    0|      Everyone|Art & Design;Crea...|      July 3, 2018|               2.8|4.0.3 and up|\n",
      "|Text on Photo - F...|ART_AND_DESIGN|   4.4|  13880| 28M| 1,000,000|Free|    0|      Everyone|        Art & Design|  October 27, 2017|             1.0.4|  4.1 and up|\n",
      "|Name Art Photo Ed...|ART_AND_DESIGN|   4.4|   8788| 12M| 1,000,000|Free|    0|      Everyone|        Art & Design|     July 31, 2018|            1.0.15|  4.0 and up|\n",
      "|Tattoo Name On My...|ART_AND_DESIGN|   4.2|  44829| 20M|10,000,000|Free|    0|          Teen|        Art & Design|     April 2, 2018|               3.8|  4.1 and up|\n",
      "|Mandala Coloring ...|ART_AND_DESIGN|   4.6|   4326| 21M|   100,000|Free|    0|      Everyone|        Art & Design|     June 26, 2018|             1.0.4|  4.4 and up|\n",
      "|3D Color Pixel by...|ART_AND_DESIGN|   4.4|   1518| 37M|   100,000|Free|    0|      Everyone|        Art & Design|    August 3, 2018|             1.2.3|  2.3 and up|\n",
      "|Photo Designer - ...|ART_AND_DESIGN|   4.7|   3632|5.5M|   500,000|Free|    0|      Everyone|        Art & Design|     July 31, 2018|               3.1|  4.1 and up|\n",
      "|350 Diy Room Deco...|ART_AND_DESIGN|   4.5|     27| 17M|    10,000|Free|    0|      Everyone|        Art & Design|  November 7, 2017|               1.0|  2.3 and up|\n",
      "|FlipaClip - Carto...|ART_AND_DESIGN|   4.3| 194216| 39M| 5,000,000|Free|    0|      Everyone|        Art & Design|    August 3, 2018|             2.2.5|4.0.3 and up|\n",
      "|        ibis Paint X|ART_AND_DESIGN|   4.6| 224399| 31M|10,000,000|Free|    0|      Everyone|        Art & Design|     July 30, 2018|             5.5.4|  4.1 and up|\n",
      "|Logo Maker - Smal...|ART_AND_DESIGN|   4.0|    450| 14M|   100,000|Free|    0|      Everyone|        Art & Design|    April 20, 2018|               4.0|  4.1 and up|\n",
      "+--------------------+--------------+------+-------+----+----------+----+-----+--------------+--------------------+------------------+------------------+------------+\n",
      "only showing top 20 rows\n",
      "\n"
     ]
    }
   ],
   "source": [
    "columns_to_filter = []\n",
    "\n",
    "# Iterate over the column names and check if the count is greater than 1\n",
    "for column in check.columns:\n",
    "    count_value = check.select(column).first()[0]\n",
    "    if count_value > 1:\n",
    "        columns_to_filter.append(column)\n",
    "\n",
    "# Filter and print rows where any of the specified columns have counts greater than 1\n",
    "filtered_data = testing_data.filter(~(\n",
    "    (f.col(columns_to_filter[0]).isNull() | f.isnan(columns_to_filter[0])) |\n",
    "    (f.col(columns_to_filter[1]).isNull() | f.isnan(columns_to_filter[1])) ))\n",
    "    # Add more columns as needed)\n",
    "filtered_data.show()"
   ]
  },
  {
   "cell_type": "code",
   "execution_count": 30,
   "metadata": {},
   "outputs": [
    {
     "name": "stdout",
     "output_type": "stream",
     "text": [
      "+---+--------+------+-------+----+--------+----+-----+--------------+------+------------+-----------+-----------+\n",
      "|App|Category|Rating|Reviews|Size|Installs|Type|Price|Content Rating|Genres|Last Updated|Current Ver|Android Ver|\n",
      "+---+--------+------+-------+----+--------+----+-----+--------------+------+------------+-----------+-----------+\n",
      "|  0|       0|     0|      0|   0|       0|   1|    0|             0|     0|           0|          0|          0|\n",
      "+---+--------+------+-------+----+--------+----+-----+--------------+------+------------+-----------+-----------+\n",
      "\n"
     ]
    }
   ],
   "source": [
    "filtered_data.select([f.count(f.when(f.isnan(c) | f.col(c).isNull(), c)).alias(c) for c in filtered_data.columns]).show()"
   ]
  },
  {
   "cell_type": "code",
   "execution_count": 31,
   "metadata": {},
   "outputs": [],
   "source": [
    "null_removed_data = filtered_data"
   ]
  },
  {
   "cell_type": "code",
   "execution_count": 33,
   "metadata": {},
   "outputs": [
    {
     "name": "stdout",
     "output_type": "stream",
     "text": [
      "+--------------------+-----------------+------+-------+------------------+----------+----+-----+--------------+--------------------+------------------+------------------+------------------+\n",
      "|                 App|         Category|Rating|Reviews|              Size|  Installs|Type|Price|Content Rating|              Genres|      Last Updated|       Current Ver|       Android Ver|\n",
      "+--------------------+-----------------+------+-------+------------------+----------+----+-----+--------------+--------------------+------------------+------------------+------------------+\n",
      "|Photo Editor & Ca...|   ART_AND_DESIGN|   4.1|    159|               19M|    10,000|Free|    0|      Everyone|        Art & Design|   January 7, 2018|             1.0.0|      4.0.3 and up|\n",
      "| Coloring book moana|   ART_AND_DESIGN|   3.9|    967|               14M|   500,000|Free|    0|      Everyone|Art & Design;Pret...|  January 15, 2018|             2.0.0|      4.0.3 and up|\n",
      "|U Launcher Lite –...|   ART_AND_DESIGN|   4.7|  87510|              8.7M| 5,000,000|Free|    0|      Everyone|        Art & Design|    August 1, 2018|             1.2.4|      4.0.3 and up|\n",
      "|Sketch - Draw & P...|   ART_AND_DESIGN|   4.5| 215644|               25M|50,000,000|Free|    0|          Teen|        Art & Design|      June 8, 2018|Varies with device|        4.2 and up|\n",
      "|Pixel Draw - Numb...|   ART_AND_DESIGN|   4.3|    967|              2.8M|   100,000|Free|    0|      Everyone|Art & Design;Crea...|     June 20, 2018|               1.1|        4.4 and up|\n",
      "|Paper flowers ins...|   ART_AND_DESIGN|   4.4|    167|              5.6M|    50,000|Free|    0|      Everyone|        Art & Design|    March 26, 2017|               1.0|        2.3 and up|\n",
      "|Smoke Effect Phot...|   ART_AND_DESIGN|   3.8|    178|               19M|    50,000|Free|    0|      Everyone|        Art & Design|    April 26, 2018|               1.1|      4.0.3 and up|\n",
      "|    Infinite Painter|   ART_AND_DESIGN|   4.1|  36815|               29M| 1,000,000|Free|    0|      Everyone|        Art & Design|     June 14, 2018|          6.1.61.1|        4.2 and up|\n",
      "|Garden Coloring Book|   ART_AND_DESIGN|   4.4|  13791|               33M| 1,000,000|Free|    0|      Everyone|        Art & Design|September 20, 2017|             2.9.2|        3.0 and up|\n",
      "|Kids Paint Free -...|   ART_AND_DESIGN|   4.7|    121|              3.1M|    10,000|Free|    0|      Everyone|Art & Design;Crea...|      July 3, 2018|               2.8|      4.0.3 and up|\n",
      "|Text on Photo - F...|   ART_AND_DESIGN|   4.4|  13880|               28M| 1,000,000|Free|    0|      Everyone|        Art & Design|  October 27, 2017|             1.0.4|        4.1 and up|\n",
      "|Name Art Photo Ed...|   ART_AND_DESIGN|   4.4|   8788|               12M| 1,000,000|Free|    0|      Everyone|        Art & Design|     July 31, 2018|            1.0.15|        4.0 and up|\n",
      "|Tattoo Name On My...|   ART_AND_DESIGN|   4.2|  44829|               20M|10,000,000|Free|    0|          Teen|        Art & Design|     April 2, 2018|               3.8|        4.1 and up|\n",
      "|Mandala Coloring ...|   ART_AND_DESIGN|   4.6|   4326|               21M|   100,000|Free|    0|      Everyone|        Art & Design|     June 26, 2018|             1.0.4|        4.4 and up|\n",
      "|3D Color Pixel by...|   ART_AND_DESIGN|   4.4|   1518|               37M|   100,000|Free|    0|      Everyone|        Art & Design|    August 3, 2018|             1.2.3|        2.3 and up|\n",
      "|Photo Designer - ...|   ART_AND_DESIGN|   4.7|   3632|              5.5M|   500,000|Free|    0|      Everyone|        Art & Design|     July 31, 2018|               3.1|        4.1 and up|\n",
      "|350 Diy Room Deco...|   ART_AND_DESIGN|   4.5|     27|               17M|    10,000|Free|    0|      Everyone|        Art & Design|  November 7, 2017|               1.0|        2.3 and up|\n",
      "|FlipaClip - Carto...|   ART_AND_DESIGN|   4.3| 194216|               39M| 5,000,000|Free|    0|      Everyone|        Art & Design|    August 3, 2018|             2.2.5|      4.0.3 and up|\n",
      "|        ibis Paint X|   ART_AND_DESIGN|   4.6| 224399|               31M|10,000,000|Free|    0|      Everyone|        Art & Design|     July 30, 2018|             5.5.4|        4.1 and up|\n",
      "|Logo Maker - Smal...|   ART_AND_DESIGN|   4.0|    450|               14M|   100,000|Free|    0|      Everyone|        Art & Design|    April 20, 2018|               4.0|        4.1 and up|\n",
      "|Boys Photo Editor...|   ART_AND_DESIGN|   4.1|    654|               12M|   100,000|Free|    0|      Everyone|        Art & Design|    March 20, 2018|               1.1|      4.0.3 and up|\n",
      "|Superheroes Wallp...|   ART_AND_DESIGN|   4.7|   7699|              4.2M|   500,000|Free|    0|  Everyone 10+|        Art & Design|     July 12, 2018|           2.2.6.2|      4.0.3 and up|\n",
      "|Mcqueen Coloring ...|   ART_AND_DESIGN|     0|     61|              7.0M|   100,000|Free|    0|      Everyone|Art & Design;Acti...|     March 7, 2018|             1.0.0|        4.1 and up|\n",
      "|HD Mickey Minnie ...|   ART_AND_DESIGN|   4.7|    118|               23M|    50,000|Free|    0|      Everyone|        Art & Design|      July 7, 2018|             1.1.3|        4.1 and up|\n",
      "|Harley Quinn wall...|   ART_AND_DESIGN|   4.8|    192|              6.0M|    10,000|Free|    0|      Everyone|        Art & Design|    April 25, 2018|               1.5|        3.0 and up|\n",
      "|Colorfit - Drawin...|   ART_AND_DESIGN|   4.7|  20260|               25M|   500,000|Free|    0|      Everyone|Art & Design;Crea...|  October 11, 2017|             1.0.8|      4.0.3 and up|\n",
      "|Animated Photo Ed...|   ART_AND_DESIGN|   4.1|    203|              6.1M|   100,000|Free|    0|      Everyone|        Art & Design|    March 21, 2018|              1.03|      4.0.3 and up|\n",
      "|Pencil Sketch Dra...|   ART_AND_DESIGN|   3.9|    136|              4.6M|    10,000|Free|    0|      Everyone|        Art & Design|     July 12, 2018|               6.0|        2.3 and up|\n",
      "|Easy Realistic Dr...|   ART_AND_DESIGN|   4.1|    223|              4.2M|   100,000|Free|    0|      Everyone|        Art & Design|   August 22, 2017|               1.0|        2.3 and up|\n",
      "|Pink Silver Bow K...|   ART_AND_DESIGN|   4.2|   1120|              9.2M|   100,000|Free|    0|      Everyone|        Art & Design|     July 12, 2018|       6.7.12.2018|      4.0.3 and up|\n",
      "|   Art Drawing Ideas|   ART_AND_DESIGN|   4.1|    227|              5.2M|    50,000|Free|    0|      Everyone|        Art & Design|      May 31, 2018|               1.2|        2.3 and up|\n",
      "|Anime Manga Color...|   ART_AND_DESIGN|   4.5|   5035|               11M|   100,000|Free|    0|      Everyone|        Art & Design|     July 19, 2018|              2.20|        4.0 and up|\n",
      "|  Easy Origami Ideas|   ART_AND_DESIGN|   4.2|   1015|               11M|   100,000|Free|    0|      Everyone|        Art & Design|   January 6, 2018|             1.1.0|        4.1 and up|\n",
      "|     I Creative Idea|   ART_AND_DESIGN|   4.7|    353|              4.2M|    10,000|Free|    0|          Teen|        Art & Design|    April 27, 2018|               1.6|        4.1 and up|\n",
      "|How to draw Ladyb...|   ART_AND_DESIGN|   3.8|    564|              9.2M|   100,000|Free|    0|      Everyone|        Art & Design|     July 11, 2018|               2.1|        4.1 and up|\n",
      "|UNICORN - Color B...|   ART_AND_DESIGN|   4.7|   8145|               24M|   500,000|Free|    0|      Everyone|Art & Design;Crea...|    August 2, 2018|             1.0.9|        4.4 and up|\n",
      "|  Floor Plan Creator|   ART_AND_DESIGN|   4.1|  36639|Varies with device| 5,000,000|Free|    0|      Everyone|        Art & Design|     July 14, 2018|Varies with device|      2.3.3 and up|\n",
      "|PIP Camera - PIP ...|   ART_AND_DESIGN|   4.7|    158|               11M|    10,000|Free|    0|      Everyone|        Art & Design| November 29, 2017|               1.3|      4.0.3 and up|\n",
      "|How To Color Disn...|   ART_AND_DESIGN|   4.0|    591|              9.4M|   500,000|Free|    0|      Everyone|        Art & Design|    March 31, 2018|                 1|        4.0 and up|\n",
      "|Drawing Clothes F...|   ART_AND_DESIGN|   4.2|    117|               15M|    10,000|Free|    0|      Everyone|        Art & Design|     July 20, 2018|             2.0.1|      4.0.3 and up|\n",
      "|Sad Poetry Photo ...|   ART_AND_DESIGN|   4.5|    176|               10M|   100,000|Free|    0|      Everyone|        Art & Design|     April 2, 2018|               1.0|      4.0.3 and up|\n",
      "|Textgram - write ...|   ART_AND_DESIGN|   4.4| 295221|Varies with device|10,000,000|Free|    0|      Everyone|        Art & Design|     July 30, 2018|Varies with device|Varies with device|\n",
      "|       Paint Splash!|   ART_AND_DESIGN|   3.8|   2206|              1.2M|   100,000|Free|    0|      Everyone|Art & Design;Crea...|    April 15, 2018|              1.46|        4.1 and up|\n",
      "|Popsicle Sticks a...|   ART_AND_DESIGN|   4.2|     26|               12M|    10,000|Free|    0|      Everyone|        Art & Design|   January 3, 2018|             1.0.0|        4.1 and up|\n",
      "|Canva: Poster, ba...|   ART_AND_DESIGN|   4.7| 174531|               24M|10,000,000|Free|    0|      Everyone|        Art & Design|     July 31, 2018|             1.6.1|        4.1 and up|\n",
      "|Install images wi...|   ART_AND_DESIGN|   4.6|   1070|               26M|   100,000|Free|    0|      Everyone|        Art & Design| November 14, 2017|               1.6|        4.1 and up|\n",
      "|Little Teddy Bear...|   ART_AND_DESIGN|   4.2|     85|              8.0M|   100,000|Free|    0|      Everyone|        Art & Design| December 17, 2017|             2.0.0|        4.1 and up|\n",
      "|    How To Draw Food|   ART_AND_DESIGN|   4.3|    845|              7.9M|   100,000|Free|    0|      Everyone|        Art & Design|      May 28, 2018|               1.0|        2.3 and up|\n",
      "|JoJo Siwa Top Hit...|           DATING|     0|      0|              4.9M|        10|Free|    0|          Teen|              Dating|     July 26, 2018|               1.0|      4.0.3 and up|\n",
      "|Monster Truck Stu...|AUTO_AND_VEHICLES|   4.2|    367|               25M|   100,000|Free|    0|      Everyone|     Auto & Vehicles|      May 10, 2018|               1.0|      4.0.3 and up|\n",
      "|Real Tractor Farming|AUTO_AND_VEHICLES|   4.0|   1598|               56M| 1,000,000|Free|    0|      Everyone|     Auto & Vehicles|     July 26, 2018|              11.0|        4.1 and up|\n",
      "|Ultimate F1 Racin...|AUTO_AND_VEHICLES|   3.8|    284|               57M|   100,000|Free|    0|      Everyone|     Auto & Vehicles|     July 26, 2018|               3.0|        4.1 and up|\n",
      "|Used Cars and Tru...|AUTO_AND_VEHICLES|   4.6|  17057|Varies with device| 1,000,000|Free|    0|      Everyone|     Auto & Vehicles|     July 30, 2018|Varies with device|Varies with device|\n",
      "|American Muscle C...|AUTO_AND_VEHICLES|   3.9|    129|               35M|   100,000|Free|    0|      Everyone|     Auto & Vehicles|     July 26, 2018|               3.0|        4.1 and up|\n",
      "|Offroad Oil Tanke...|AUTO_AND_VEHICLES|   4.3|    542|               33M|   100,000|Free|    0|      Everyone|     Auto & Vehicles|     July 31, 2018|               4.0|        4.1 and up|\n",
      "|Tickets SDA 2018 ...|AUTO_AND_VEHICLES|   4.9|  10479|               33M|   100,000|Free|    0|      Everyone|     Auto & Vehicles|     July 18, 2018|             1.7.1|        4.0 and up|\n",
      "|Gas Prices (Germa...|AUTO_AND_VEHICLES|   4.4|    805|              5.6M|    50,000|Free|    0|      Everyone|     Auto & Vehicles|     July 29, 2018|             2.5.1|        4.4 and up|\n",
      "|Extreme Rally Cha...|AUTO_AND_VEHICLES|   4.2|    129|               54M|   100,000|Free|    0|      Everyone|     Auto & Vehicles|     July 26, 2018|               3.0|        4.1 and up|\n",
      "|   Restart Navigator|AUTO_AND_VEHICLES|   4.0|   1403|              201k|   100,000|Free|    0|      Everyone|     Auto & Vehicles|   August 26, 2014|             1.0.1|        2.2 and up|\n",
      "|REG - Check the r...|AUTO_AND_VEHICLES|   3.9|   3971|              3.6M|   100,000|Free|    0|      Everyone|     Auto & Vehicles|     July 30, 2018|             2.493|        4.4 and up|\n",
      "|        CityBus Lviv|AUTO_AND_VEHICLES|   4.6|    534|              5.7M|    10,000|Free|    0|      Everyone|     Auto & Vehicles|      July 8, 2018|             1.9.1|      4.0.3 and up|\n",
      "|CDL Practice Test...|AUTO_AND_VEHICLES|   4.9|   7774|               17M|   100,000|Free|    0|      Everyone|     Auto & Vehicles|      July 3, 2018|               1.7|        4.2 and up|\n",
      "|ezETC (ETC balanc...|AUTO_AND_VEHICLES|   4.3|  38846|              8.6M| 1,000,000|Free|    0|      Everyone|     Auto & Vehicles|     July 28, 2018|     2.20 Build 02|        4.1 and up|\n",
      "|Free VIN Report f...|AUTO_AND_VEHICLES|   4.6|   2431|              2.4M|   100,000|Free|    0|      Everyone|     Auto & Vehicles|     June 12, 2018|              1.37|        4.0 and up|\n",
      "|DMV Permit Practi...|AUTO_AND_VEHICLES|   4.9|   6090|               27M|   100,000|Free|    0|      Everyone|     Auto & Vehicles|      July 3, 2018|               1.7|        4.2 and up|\n",
      "|   Check Vehicle Tax|AUTO_AND_VEHICLES|   3.9|    295|              2.7M|    10,000|Free|    0|      Everyone|     Auto & Vehicles|     July 30, 2018|             0.2.1|        4.4 and up|\n",
      "|    Used Cars Mexico|AUTO_AND_VEHICLES|   4.0|    190|              2.5M|    50,000|Free|    0|      Everyone|     Auto & Vehicles|  October 14, 2016|               1.0|        2.3 and up|\n",
      "|  Ulysse Speedometer|AUTO_AND_VEHICLES|   4.3|  40211|Varies with device| 5,000,000|Free|    0|      Everyone|     Auto & Vehicles|     July 30, 2018|Varies with device|Varies with device|\n",
      "|              REPUVE|AUTO_AND_VEHICLES|   3.9|    356|Varies with device|   100,000|Free|    0|      Everyone|     Auto & Vehicles|      May 25, 2018|Varies with device|Varies with device|\n",
      "|Used cars for sal...|AUTO_AND_VEHICLES|   4.2|  52530|              7.0M| 5,000,000|Free|    0|      Everyone|     Auto & Vehicles|     July 16, 2018|            4.47.3|      4.0.3 and up|\n",
      "|Fines of the Stat...|AUTO_AND_VEHICLES|   4.8| 116986|               35M| 5,000,000|Free|    0|      Everyone|     Auto & Vehicles|    August 2, 2018|             1.9.7|      4.0.3 and up|\n",
      "|SK Enca Direct Ma...|AUTO_AND_VEHICLES|   3.6|   1379|               16M|   500,000|Free|    0|      Everyone|     Auto & Vehicles|    August 2, 2018|            2.2.21|        4.2 and up|\n",
      "|Android Auto - Ma...|AUTO_AND_VEHICLES|   4.2| 271920|               16M|10,000,000|Free|    0|          Teen|     Auto & Vehicles|     July 11, 2018|Varies with device|        5.0 and up|\n",
      "|              PDD-UA|AUTO_AND_VEHICLES|   4.8|    736|Varies with device|   100,000|Free|    0|      Everyone|     Auto & Vehicles|     July 29, 2018|               2.9|      2.3.3 and up|\n",
      "|Tickets SDA 2019 ...|AUTO_AND_VEHICLES|   4.8|   7021|               17M|   500,000|Free|    0|      Everyone|     Auto & Vehicles|     July 27, 2018|              1.79|        4.0 and up|\n",
      "|Super Cars Wallpa...|AUTO_AND_VEHICLES|   4.6|    197|              3.4M|    50,000|Free|    0|      Everyone|     Auto & Vehicles|     June 14, 2018|               1.3|        4.0 and up|\n",
      "|Police Lights, Si...|AUTO_AND_VEHICLES|   4.5|    737|              8.9M|   100,000|Free|    0|      Everyone|     Auto & Vehicles|      June 8, 2018|           2.3.5.1|        4.1 and up|\n",
      "|Police Detector (...|AUTO_AND_VEHICLES|   4.3|   3574|              3.9M| 1,000,000|Free|    0|  Everyone 10+|     Auto & Vehicles|      July 4, 2018|               1.6|        4.0 and up|\n",
      "| Best Car Wallpapers|AUTO_AND_VEHICLES|   4.5|    994|              2.9M|   100,000|Free|    0|      Everyone|     Auto & Vehicles|    March 27, 2018|               1.6|        4.1 and up|\n",
      "|Tickets + PDA 201...|AUTO_AND_VEHICLES|   4.9| 197136|               38M| 1,000,000|Free|    0|      Everyone|     Auto & Vehicles|     July 15, 2018|              8.31|        4.1 and up|\n",
      "|Pick Your Part Ga...|AUTO_AND_VEHICLES|   3.9|    142|               32M|    50,000|Free|    0|      Everyone|     Auto & Vehicles|     July 24, 2018|           1.1.5.0|        6.0 and up|\n",
      "|PakWheels: Buy & ...|AUTO_AND_VEHICLES|   4.4|  15168|               37M| 1,000,000|Free|    0|      Everyone|     Auto & Vehicles|     July 27, 2018|            10.0.2|        4.2 and up|\n",
      "| Supervision service|AUTO_AND_VEHICLES|   4.0|   2155|               15M|   500,000|Free|    0|      Everyone|     Auto & Vehicles|     July 30, 2018|            1.10.3|        5.0 and up|\n",
      "|Speed Camera Dete...|AUTO_AND_VEHICLES|   4.3|    138|              5.4M|   100,000|Free|    0|      Everyone|     Auto & Vehicles|     July 23, 2018|               1.0|      4.0.3 and up|\n",
      "|Used car search G...|AUTO_AND_VEHICLES|   3.7|   5414|               18M| 1,000,000|Free|    0|      Everyone|     Auto & Vehicles|     July 23, 2018|            3.20.1|        4.4 and up|\n",
      "|CarMax – Cars for...|AUTO_AND_VEHICLES|   4.4|  21777|Varies with device| 1,000,000|Free|    0|      Everyone|     Auto & Vehicles|    August 4, 2018|Varies with device|Varies with device|\n",
      "|     BEST CAR SOUNDS|AUTO_AND_VEHICLES|   4.3|    348|               38M|   100,000|Free|    0|      Everyone|     Auto & Vehicles|     July 29, 2018|             1.0.3|        2.3 and up|\n",
      "|RST - Sale of car...|AUTO_AND_VEHICLES|   3.2|    250|              1.1M|   100,000|Free|    0|      Everyone|     Auto & Vehicles|    April 27, 2018|               1.4|      4.0.3 and up|\n",
      "|AutoScout24 Switz...|AUTO_AND_VEHICLES|   4.6|  13372|Varies with device| 1,000,000|Free|    0|      Everyone|     Auto & Vehicles|    August 3, 2018|Varies with device|Varies with device|\n",
      "|Zona Azul Digital...|AUTO_AND_VEHICLES|   4.6|   7880|Varies with device|   100,000|Free|    0|      Everyone|     Auto & Vehicles|      May 10, 2018|             4.6.5|Varies with device|\n",
      "|            SMS Park|AUTO_AND_VEHICLES|   4.5|   3617|              7.9M|   100,000|Free|    0|      Everyone|     Auto & Vehicles|      May 16, 2018|             2.8.2|        4.1 and up|\n",
      "|             SKencar|AUTO_AND_VEHICLES|   3.7|   4806|               35M| 1,000,000|Free|    0|      Everyone|     Auto & Vehicles|     July 31, 2018|             4.0.3|      4.0.3 and up|\n",
      "|Fuelio: Gas log &...|AUTO_AND_VEHICLES|   4.6|  65786|Varies with device| 1,000,000|Free|    0|      Everyone|     Auto & Vehicles|    August 2, 2018|Varies with device|      4.0.3 and up|\n",
      "|          auto fines|AUTO_AND_VEHICLES|   4.6|  31433|               17M| 1,000,000|Free|    0|      Everyone|     Auto & Vehicles|    August 2, 2018|              1.40|      4.0.3 and up|\n",
      "|Used car is the f...|AUTO_AND_VEHICLES|   4.6|   5097|               19M| 1,000,000|Free|    0|      Everyone|     Auto & Vehicles|     July 23, 2018|            1.5.18|      4.0.3 and up|\n",
      "|UK Girls Mobile N...|           DATING|   3.0|      1|              5.5M|       500|Free|    0|    Mature 17+|              Dating|     July 19, 2018|               1.0|      4.0.3 and up|\n",
      "|All of the parkin...|AUTO_AND_VEHICLES|   4.0|   1754|               14M|   500,000|Free|    0|      Everyone|     Auto & Vehicles|      June 2, 2018|             2.3.4|        4.0 and up|\n",
      "|Inquiry Fines and...|AUTO_AND_VEHICLES|   4.4|   2680|              2.2M|   500,000|Free|    0|      Everyone|     Auto & Vehicles|    March 20, 2018|              1.03|      4.0.3 and up|\n",
      "|         Gas Station|AUTO_AND_VEHICLES|   4.0|   1288|              4.5M|   100,000|Free|    0|      Everyone|     Auto & Vehicles|    April 21, 2018|              2.17|        4.0 and up|\n",
      "|Hush - Beauty for...|           BEAUTY|   4.7|  18900|               17M|   500,000|Free|    0|      Everyone|              Beauty|    August 2, 2018|            6.10.1|        5.0 and up|\n",
      "+--------------------+-----------------+------+-------+------------------+----------+----+-----+--------------+--------------------+------------------+------------------+------------------+\n",
      "only showing top 100 rows\n",
      "\n"
     ]
    }
   ],
   "source": [
    "null_removed_data.show(100)"
   ]
  },
  {
   "cell_type": "code",
   "execution_count": 34,
   "metadata": {},
   "outputs": [],
   "source": [
    "varies_changed = null_removed_data.withColumn(\"Size\", f.when(f.col(\"Size\") == \"Varies with device\", None).otherwise(f.col(\"Size\")))"
   ]
  },
  {
   "cell_type": "code",
   "execution_count": 35,
   "metadata": {},
   "outputs": [
    {
     "name": "stdout",
     "output_type": "stream",
     "text": [
      "+--------------------+-----------------+------+-------+----+----------+----+-----+--------------+--------------------+------------------+------------------+------------------+\n",
      "|                 App|         Category|Rating|Reviews|Size|  Installs|Type|Price|Content Rating|              Genres|      Last Updated|       Current Ver|       Android Ver|\n",
      "+--------------------+-----------------+------+-------+----+----------+----+-----+--------------+--------------------+------------------+------------------+------------------+\n",
      "|Photo Editor & Ca...|   ART_AND_DESIGN|   4.1|    159| 19M|    10,000|Free|    0|      Everyone|        Art & Design|   January 7, 2018|             1.0.0|      4.0.3 and up|\n",
      "| Coloring book moana|   ART_AND_DESIGN|   3.9|    967| 14M|   500,000|Free|    0|      Everyone|Art & Design;Pret...|  January 15, 2018|             2.0.0|      4.0.3 and up|\n",
      "|U Launcher Lite –...|   ART_AND_DESIGN|   4.7|  87510|8.7M| 5,000,000|Free|    0|      Everyone|        Art & Design|    August 1, 2018|             1.2.4|      4.0.3 and up|\n",
      "|Sketch - Draw & P...|   ART_AND_DESIGN|   4.5| 215644| 25M|50,000,000|Free|    0|          Teen|        Art & Design|      June 8, 2018|Varies with device|        4.2 and up|\n",
      "|Pixel Draw - Numb...|   ART_AND_DESIGN|   4.3|    967|2.8M|   100,000|Free|    0|      Everyone|Art & Design;Crea...|     June 20, 2018|               1.1|        4.4 and up|\n",
      "|Paper flowers ins...|   ART_AND_DESIGN|   4.4|    167|5.6M|    50,000|Free|    0|      Everyone|        Art & Design|    March 26, 2017|               1.0|        2.3 and up|\n",
      "|Smoke Effect Phot...|   ART_AND_DESIGN|   3.8|    178| 19M|    50,000|Free|    0|      Everyone|        Art & Design|    April 26, 2018|               1.1|      4.0.3 and up|\n",
      "|    Infinite Painter|   ART_AND_DESIGN|   4.1|  36815| 29M| 1,000,000|Free|    0|      Everyone|        Art & Design|     June 14, 2018|          6.1.61.1|        4.2 and up|\n",
      "|Garden Coloring Book|   ART_AND_DESIGN|   4.4|  13791| 33M| 1,000,000|Free|    0|      Everyone|        Art & Design|September 20, 2017|             2.9.2|        3.0 and up|\n",
      "|Kids Paint Free -...|   ART_AND_DESIGN|   4.7|    121|3.1M|    10,000|Free|    0|      Everyone|Art & Design;Crea...|      July 3, 2018|               2.8|      4.0.3 and up|\n",
      "|Text on Photo - F...|   ART_AND_DESIGN|   4.4|  13880| 28M| 1,000,000|Free|    0|      Everyone|        Art & Design|  October 27, 2017|             1.0.4|        4.1 and up|\n",
      "|Name Art Photo Ed...|   ART_AND_DESIGN|   4.4|   8788| 12M| 1,000,000|Free|    0|      Everyone|        Art & Design|     July 31, 2018|            1.0.15|        4.0 and up|\n",
      "|Tattoo Name On My...|   ART_AND_DESIGN|   4.2|  44829| 20M|10,000,000|Free|    0|          Teen|        Art & Design|     April 2, 2018|               3.8|        4.1 and up|\n",
      "|Mandala Coloring ...|   ART_AND_DESIGN|   4.6|   4326| 21M|   100,000|Free|    0|      Everyone|        Art & Design|     June 26, 2018|             1.0.4|        4.4 and up|\n",
      "|3D Color Pixel by...|   ART_AND_DESIGN|   4.4|   1518| 37M|   100,000|Free|    0|      Everyone|        Art & Design|    August 3, 2018|             1.2.3|        2.3 and up|\n",
      "|Photo Designer - ...|   ART_AND_DESIGN|   4.7|   3632|5.5M|   500,000|Free|    0|      Everyone|        Art & Design|     July 31, 2018|               3.1|        4.1 and up|\n",
      "|350 Diy Room Deco...|   ART_AND_DESIGN|   4.5|     27| 17M|    10,000|Free|    0|      Everyone|        Art & Design|  November 7, 2017|               1.0|        2.3 and up|\n",
      "|FlipaClip - Carto...|   ART_AND_DESIGN|   4.3| 194216| 39M| 5,000,000|Free|    0|      Everyone|        Art & Design|    August 3, 2018|             2.2.5|      4.0.3 and up|\n",
      "|        ibis Paint X|   ART_AND_DESIGN|   4.6| 224399| 31M|10,000,000|Free|    0|      Everyone|        Art & Design|     July 30, 2018|             5.5.4|        4.1 and up|\n",
      "|Logo Maker - Smal...|   ART_AND_DESIGN|   4.0|    450| 14M|   100,000|Free|    0|      Everyone|        Art & Design|    April 20, 2018|               4.0|        4.1 and up|\n",
      "|Boys Photo Editor...|   ART_AND_DESIGN|   4.1|    654| 12M|   100,000|Free|    0|      Everyone|        Art & Design|    March 20, 2018|               1.1|      4.0.3 and up|\n",
      "|Superheroes Wallp...|   ART_AND_DESIGN|   4.7|   7699|4.2M|   500,000|Free|    0|  Everyone 10+|        Art & Design|     July 12, 2018|           2.2.6.2|      4.0.3 and up|\n",
      "|Mcqueen Coloring ...|   ART_AND_DESIGN|     0|     61|7.0M|   100,000|Free|    0|      Everyone|Art & Design;Acti...|     March 7, 2018|             1.0.0|        4.1 and up|\n",
      "|HD Mickey Minnie ...|   ART_AND_DESIGN|   4.7|    118| 23M|    50,000|Free|    0|      Everyone|        Art & Design|      July 7, 2018|             1.1.3|        4.1 and up|\n",
      "|Harley Quinn wall...|   ART_AND_DESIGN|   4.8|    192|6.0M|    10,000|Free|    0|      Everyone|        Art & Design|    April 25, 2018|               1.5|        3.0 and up|\n",
      "|Colorfit - Drawin...|   ART_AND_DESIGN|   4.7|  20260| 25M|   500,000|Free|    0|      Everyone|Art & Design;Crea...|  October 11, 2017|             1.0.8|      4.0.3 and up|\n",
      "|Animated Photo Ed...|   ART_AND_DESIGN|   4.1|    203|6.1M|   100,000|Free|    0|      Everyone|        Art & Design|    March 21, 2018|              1.03|      4.0.3 and up|\n",
      "|Pencil Sketch Dra...|   ART_AND_DESIGN|   3.9|    136|4.6M|    10,000|Free|    0|      Everyone|        Art & Design|     July 12, 2018|               6.0|        2.3 and up|\n",
      "|Easy Realistic Dr...|   ART_AND_DESIGN|   4.1|    223|4.2M|   100,000|Free|    0|      Everyone|        Art & Design|   August 22, 2017|               1.0|        2.3 and up|\n",
      "|Pink Silver Bow K...|   ART_AND_DESIGN|   4.2|   1120|9.2M|   100,000|Free|    0|      Everyone|        Art & Design|     July 12, 2018|       6.7.12.2018|      4.0.3 and up|\n",
      "|   Art Drawing Ideas|   ART_AND_DESIGN|   4.1|    227|5.2M|    50,000|Free|    0|      Everyone|        Art & Design|      May 31, 2018|               1.2|        2.3 and up|\n",
      "|Anime Manga Color...|   ART_AND_DESIGN|   4.5|   5035| 11M|   100,000|Free|    0|      Everyone|        Art & Design|     July 19, 2018|              2.20|        4.0 and up|\n",
      "|  Easy Origami Ideas|   ART_AND_DESIGN|   4.2|   1015| 11M|   100,000|Free|    0|      Everyone|        Art & Design|   January 6, 2018|             1.1.0|        4.1 and up|\n",
      "|     I Creative Idea|   ART_AND_DESIGN|   4.7|    353|4.2M|    10,000|Free|    0|          Teen|        Art & Design|    April 27, 2018|               1.6|        4.1 and up|\n",
      "|How to draw Ladyb...|   ART_AND_DESIGN|   3.8|    564|9.2M|   100,000|Free|    0|      Everyone|        Art & Design|     July 11, 2018|               2.1|        4.1 and up|\n",
      "|UNICORN - Color B...|   ART_AND_DESIGN|   4.7|   8145| 24M|   500,000|Free|    0|      Everyone|Art & Design;Crea...|    August 2, 2018|             1.0.9|        4.4 and up|\n",
      "|  Floor Plan Creator|   ART_AND_DESIGN|   4.1|  36639|null| 5,000,000|Free|    0|      Everyone|        Art & Design|     July 14, 2018|Varies with device|      2.3.3 and up|\n",
      "|PIP Camera - PIP ...|   ART_AND_DESIGN|   4.7|    158| 11M|    10,000|Free|    0|      Everyone|        Art & Design| November 29, 2017|               1.3|      4.0.3 and up|\n",
      "|How To Color Disn...|   ART_AND_DESIGN|   4.0|    591|9.4M|   500,000|Free|    0|      Everyone|        Art & Design|    March 31, 2018|                 1|        4.0 and up|\n",
      "|Drawing Clothes F...|   ART_AND_DESIGN|   4.2|    117| 15M|    10,000|Free|    0|      Everyone|        Art & Design|     July 20, 2018|             2.0.1|      4.0.3 and up|\n",
      "|Sad Poetry Photo ...|   ART_AND_DESIGN|   4.5|    176| 10M|   100,000|Free|    0|      Everyone|        Art & Design|     April 2, 2018|               1.0|      4.0.3 and up|\n",
      "|Textgram - write ...|   ART_AND_DESIGN|   4.4| 295221|null|10,000,000|Free|    0|      Everyone|        Art & Design|     July 30, 2018|Varies with device|Varies with device|\n",
      "|       Paint Splash!|   ART_AND_DESIGN|   3.8|   2206|1.2M|   100,000|Free|    0|      Everyone|Art & Design;Crea...|    April 15, 2018|              1.46|        4.1 and up|\n",
      "|Popsicle Sticks a...|   ART_AND_DESIGN|   4.2|     26| 12M|    10,000|Free|    0|      Everyone|        Art & Design|   January 3, 2018|             1.0.0|        4.1 and up|\n",
      "|Canva: Poster, ba...|   ART_AND_DESIGN|   4.7| 174531| 24M|10,000,000|Free|    0|      Everyone|        Art & Design|     July 31, 2018|             1.6.1|        4.1 and up|\n",
      "|Install images wi...|   ART_AND_DESIGN|   4.6|   1070| 26M|   100,000|Free|    0|      Everyone|        Art & Design| November 14, 2017|               1.6|        4.1 and up|\n",
      "|Little Teddy Bear...|   ART_AND_DESIGN|   4.2|     85|8.0M|   100,000|Free|    0|      Everyone|        Art & Design| December 17, 2017|             2.0.0|        4.1 and up|\n",
      "|    How To Draw Food|   ART_AND_DESIGN|   4.3|    845|7.9M|   100,000|Free|    0|      Everyone|        Art & Design|      May 28, 2018|               1.0|        2.3 and up|\n",
      "|JoJo Siwa Top Hit...|           DATING|     0|      0|4.9M|        10|Free|    0|          Teen|              Dating|     July 26, 2018|               1.0|      4.0.3 and up|\n",
      "|Monster Truck Stu...|AUTO_AND_VEHICLES|   4.2|    367| 25M|   100,000|Free|    0|      Everyone|     Auto & Vehicles|      May 10, 2018|               1.0|      4.0.3 and up|\n",
      "|Real Tractor Farming|AUTO_AND_VEHICLES|   4.0|   1598| 56M| 1,000,000|Free|    0|      Everyone|     Auto & Vehicles|     July 26, 2018|              11.0|        4.1 and up|\n",
      "|Ultimate F1 Racin...|AUTO_AND_VEHICLES|   3.8|    284| 57M|   100,000|Free|    0|      Everyone|     Auto & Vehicles|     July 26, 2018|               3.0|        4.1 and up|\n",
      "|Used Cars and Tru...|AUTO_AND_VEHICLES|   4.6|  17057|null| 1,000,000|Free|    0|      Everyone|     Auto & Vehicles|     July 30, 2018|Varies with device|Varies with device|\n",
      "|American Muscle C...|AUTO_AND_VEHICLES|   3.9|    129| 35M|   100,000|Free|    0|      Everyone|     Auto & Vehicles|     July 26, 2018|               3.0|        4.1 and up|\n",
      "|Offroad Oil Tanke...|AUTO_AND_VEHICLES|   4.3|    542| 33M|   100,000|Free|    0|      Everyone|     Auto & Vehicles|     July 31, 2018|               4.0|        4.1 and up|\n",
      "|Tickets SDA 2018 ...|AUTO_AND_VEHICLES|   4.9|  10479| 33M|   100,000|Free|    0|      Everyone|     Auto & Vehicles|     July 18, 2018|             1.7.1|        4.0 and up|\n",
      "|Gas Prices (Germa...|AUTO_AND_VEHICLES|   4.4|    805|5.6M|    50,000|Free|    0|      Everyone|     Auto & Vehicles|     July 29, 2018|             2.5.1|        4.4 and up|\n",
      "|Extreme Rally Cha...|AUTO_AND_VEHICLES|   4.2|    129| 54M|   100,000|Free|    0|      Everyone|     Auto & Vehicles|     July 26, 2018|               3.0|        4.1 and up|\n",
      "|   Restart Navigator|AUTO_AND_VEHICLES|   4.0|   1403|201k|   100,000|Free|    0|      Everyone|     Auto & Vehicles|   August 26, 2014|             1.0.1|        2.2 and up|\n",
      "|REG - Check the r...|AUTO_AND_VEHICLES|   3.9|   3971|3.6M|   100,000|Free|    0|      Everyone|     Auto & Vehicles|     July 30, 2018|             2.493|        4.4 and up|\n",
      "|        CityBus Lviv|AUTO_AND_VEHICLES|   4.6|    534|5.7M|    10,000|Free|    0|      Everyone|     Auto & Vehicles|      July 8, 2018|             1.9.1|      4.0.3 and up|\n",
      "|CDL Practice Test...|AUTO_AND_VEHICLES|   4.9|   7774| 17M|   100,000|Free|    0|      Everyone|     Auto & Vehicles|      July 3, 2018|               1.7|        4.2 and up|\n",
      "|ezETC (ETC balanc...|AUTO_AND_VEHICLES|   4.3|  38846|8.6M| 1,000,000|Free|    0|      Everyone|     Auto & Vehicles|     July 28, 2018|     2.20 Build 02|        4.1 and up|\n",
      "|Free VIN Report f...|AUTO_AND_VEHICLES|   4.6|   2431|2.4M|   100,000|Free|    0|      Everyone|     Auto & Vehicles|     June 12, 2018|              1.37|        4.0 and up|\n",
      "|DMV Permit Practi...|AUTO_AND_VEHICLES|   4.9|   6090| 27M|   100,000|Free|    0|      Everyone|     Auto & Vehicles|      July 3, 2018|               1.7|        4.2 and up|\n",
      "|   Check Vehicle Tax|AUTO_AND_VEHICLES|   3.9|    295|2.7M|    10,000|Free|    0|      Everyone|     Auto & Vehicles|     July 30, 2018|             0.2.1|        4.4 and up|\n",
      "|    Used Cars Mexico|AUTO_AND_VEHICLES|   4.0|    190|2.5M|    50,000|Free|    0|      Everyone|     Auto & Vehicles|  October 14, 2016|               1.0|        2.3 and up|\n",
      "|  Ulysse Speedometer|AUTO_AND_VEHICLES|   4.3|  40211|null| 5,000,000|Free|    0|      Everyone|     Auto & Vehicles|     July 30, 2018|Varies with device|Varies with device|\n",
      "|              REPUVE|AUTO_AND_VEHICLES|   3.9|    356|null|   100,000|Free|    0|      Everyone|     Auto & Vehicles|      May 25, 2018|Varies with device|Varies with device|\n",
      "|Used cars for sal...|AUTO_AND_VEHICLES|   4.2|  52530|7.0M| 5,000,000|Free|    0|      Everyone|     Auto & Vehicles|     July 16, 2018|            4.47.3|      4.0.3 and up|\n",
      "|Fines of the Stat...|AUTO_AND_VEHICLES|   4.8| 116986| 35M| 5,000,000|Free|    0|      Everyone|     Auto & Vehicles|    August 2, 2018|             1.9.7|      4.0.3 and up|\n",
      "|SK Enca Direct Ma...|AUTO_AND_VEHICLES|   3.6|   1379| 16M|   500,000|Free|    0|      Everyone|     Auto & Vehicles|    August 2, 2018|            2.2.21|        4.2 and up|\n",
      "|Android Auto - Ma...|AUTO_AND_VEHICLES|   4.2| 271920| 16M|10,000,000|Free|    0|          Teen|     Auto & Vehicles|     July 11, 2018|Varies with device|        5.0 and up|\n",
      "|              PDD-UA|AUTO_AND_VEHICLES|   4.8|    736|null|   100,000|Free|    0|      Everyone|     Auto & Vehicles|     July 29, 2018|               2.9|      2.3.3 and up|\n",
      "|Tickets SDA 2019 ...|AUTO_AND_VEHICLES|   4.8|   7021| 17M|   500,000|Free|    0|      Everyone|     Auto & Vehicles|     July 27, 2018|              1.79|        4.0 and up|\n",
      "|Super Cars Wallpa...|AUTO_AND_VEHICLES|   4.6|    197|3.4M|    50,000|Free|    0|      Everyone|     Auto & Vehicles|     June 14, 2018|               1.3|        4.0 and up|\n",
      "|Police Lights, Si...|AUTO_AND_VEHICLES|   4.5|    737|8.9M|   100,000|Free|    0|      Everyone|     Auto & Vehicles|      June 8, 2018|           2.3.5.1|        4.1 and up|\n",
      "|Police Detector (...|AUTO_AND_VEHICLES|   4.3|   3574|3.9M| 1,000,000|Free|    0|  Everyone 10+|     Auto & Vehicles|      July 4, 2018|               1.6|        4.0 and up|\n",
      "| Best Car Wallpapers|AUTO_AND_VEHICLES|   4.5|    994|2.9M|   100,000|Free|    0|      Everyone|     Auto & Vehicles|    March 27, 2018|               1.6|        4.1 and up|\n",
      "|Tickets + PDA 201...|AUTO_AND_VEHICLES|   4.9| 197136| 38M| 1,000,000|Free|    0|      Everyone|     Auto & Vehicles|     July 15, 2018|              8.31|        4.1 and up|\n",
      "|Pick Your Part Ga...|AUTO_AND_VEHICLES|   3.9|    142| 32M|    50,000|Free|    0|      Everyone|     Auto & Vehicles|     July 24, 2018|           1.1.5.0|        6.0 and up|\n",
      "|PakWheels: Buy & ...|AUTO_AND_VEHICLES|   4.4|  15168| 37M| 1,000,000|Free|    0|      Everyone|     Auto & Vehicles|     July 27, 2018|            10.0.2|        4.2 and up|\n",
      "| Supervision service|AUTO_AND_VEHICLES|   4.0|   2155| 15M|   500,000|Free|    0|      Everyone|     Auto & Vehicles|     July 30, 2018|            1.10.3|        5.0 and up|\n",
      "|Speed Camera Dete...|AUTO_AND_VEHICLES|   4.3|    138|5.4M|   100,000|Free|    0|      Everyone|     Auto & Vehicles|     July 23, 2018|               1.0|      4.0.3 and up|\n",
      "|Used car search G...|AUTO_AND_VEHICLES|   3.7|   5414| 18M| 1,000,000|Free|    0|      Everyone|     Auto & Vehicles|     July 23, 2018|            3.20.1|        4.4 and up|\n",
      "|CarMax – Cars for...|AUTO_AND_VEHICLES|   4.4|  21777|null| 1,000,000|Free|    0|      Everyone|     Auto & Vehicles|    August 4, 2018|Varies with device|Varies with device|\n",
      "|     BEST CAR SOUNDS|AUTO_AND_VEHICLES|   4.3|    348| 38M|   100,000|Free|    0|      Everyone|     Auto & Vehicles|     July 29, 2018|             1.0.3|        2.3 and up|\n",
      "|RST - Sale of car...|AUTO_AND_VEHICLES|   3.2|    250|1.1M|   100,000|Free|    0|      Everyone|     Auto & Vehicles|    April 27, 2018|               1.4|      4.0.3 and up|\n",
      "|AutoScout24 Switz...|AUTO_AND_VEHICLES|   4.6|  13372|null| 1,000,000|Free|    0|      Everyone|     Auto & Vehicles|    August 3, 2018|Varies with device|Varies with device|\n",
      "|Zona Azul Digital...|AUTO_AND_VEHICLES|   4.6|   7880|null|   100,000|Free|    0|      Everyone|     Auto & Vehicles|      May 10, 2018|             4.6.5|Varies with device|\n",
      "|            SMS Park|AUTO_AND_VEHICLES|   4.5|   3617|7.9M|   100,000|Free|    0|      Everyone|     Auto & Vehicles|      May 16, 2018|             2.8.2|        4.1 and up|\n",
      "|             SKencar|AUTO_AND_VEHICLES|   3.7|   4806| 35M| 1,000,000|Free|    0|      Everyone|     Auto & Vehicles|     July 31, 2018|             4.0.3|      4.0.3 and up|\n",
      "|Fuelio: Gas log &...|AUTO_AND_VEHICLES|   4.6|  65786|null| 1,000,000|Free|    0|      Everyone|     Auto & Vehicles|    August 2, 2018|Varies with device|      4.0.3 and up|\n",
      "|          auto fines|AUTO_AND_VEHICLES|   4.6|  31433| 17M| 1,000,000|Free|    0|      Everyone|     Auto & Vehicles|    August 2, 2018|              1.40|      4.0.3 and up|\n",
      "|Used car is the f...|AUTO_AND_VEHICLES|   4.6|   5097| 19M| 1,000,000|Free|    0|      Everyone|     Auto & Vehicles|     July 23, 2018|            1.5.18|      4.0.3 and up|\n",
      "|UK Girls Mobile N...|           DATING|   3.0|      1|5.5M|       500|Free|    0|    Mature 17+|              Dating|     July 19, 2018|               1.0|      4.0.3 and up|\n",
      "|All of the parkin...|AUTO_AND_VEHICLES|   4.0|   1754| 14M|   500,000|Free|    0|      Everyone|     Auto & Vehicles|      June 2, 2018|             2.3.4|        4.0 and up|\n",
      "|Inquiry Fines and...|AUTO_AND_VEHICLES|   4.4|   2680|2.2M|   500,000|Free|    0|      Everyone|     Auto & Vehicles|    March 20, 2018|              1.03|      4.0.3 and up|\n",
      "|         Gas Station|AUTO_AND_VEHICLES|   4.0|   1288|4.5M|   100,000|Free|    0|      Everyone|     Auto & Vehicles|    April 21, 2018|              2.17|        4.0 and up|\n",
      "|Hush - Beauty for...|           BEAUTY|   4.7|  18900| 17M|   500,000|Free|    0|      Everyone|              Beauty|    August 2, 2018|            6.10.1|        5.0 and up|\n",
      "+--------------------+-----------------+------+-------+----+----------+----+-----+--------------+--------------------+------------------+------------------+------------------+\n",
      "only showing top 100 rows\n",
      "\n"
     ]
    }
   ],
   "source": [
    "varies_changed.show(100)"
   ]
  },
  {
   "cell_type": "code",
   "execution_count": 37,
   "metadata": {},
   "outputs": [
    {
     "name": "stdout",
     "output_type": "stream",
     "text": [
      "+--------------------+-----------------+------+-------+----+----------+----+-----+--------------+--------------------+------------------+------------------+------------------+---------------+\n",
      "|                 App|         Category|Rating|Reviews|Size|  Installs|Type|Price|Content Rating|              Genres|      Last Updated|       Current Ver|       Android Ver|size_dependency|\n",
      "+--------------------+-----------------+------+-------+----+----------+----+-----+--------------+--------------------+------------------+------------------+------------------+---------------+\n",
      "|Photo Editor & Ca...|   ART_AND_DESIGN|   4.1|    159| 19M|    10,000|Free|    0|      Everyone|        Art & Design|   January 7, 2018|             1.0.0|      4.0.3 and up|           true|\n",
      "| Coloring book moana|   ART_AND_DESIGN|   3.9|    967| 14M|   500,000|Free|    0|      Everyone|Art & Design;Pret...|  January 15, 2018|             2.0.0|      4.0.3 and up|           true|\n",
      "|U Launcher Lite –...|   ART_AND_DESIGN|   4.7|  87510|8.7M| 5,000,000|Free|    0|      Everyone|        Art & Design|    August 1, 2018|             1.2.4|      4.0.3 and up|           true|\n",
      "|Sketch - Draw & P...|   ART_AND_DESIGN|   4.5| 215644| 25M|50,000,000|Free|    0|          Teen|        Art & Design|      June 8, 2018|Varies with device|        4.2 and up|           true|\n",
      "|Pixel Draw - Numb...|   ART_AND_DESIGN|   4.3|    967|2.8M|   100,000|Free|    0|      Everyone|Art & Design;Crea...|     June 20, 2018|               1.1|        4.4 and up|           true|\n",
      "|Paper flowers ins...|   ART_AND_DESIGN|   4.4|    167|5.6M|    50,000|Free|    0|      Everyone|        Art & Design|    March 26, 2017|               1.0|        2.3 and up|           true|\n",
      "|Smoke Effect Phot...|   ART_AND_DESIGN|   3.8|    178| 19M|    50,000|Free|    0|      Everyone|        Art & Design|    April 26, 2018|               1.1|      4.0.3 and up|           true|\n",
      "|    Infinite Painter|   ART_AND_DESIGN|   4.1|  36815| 29M| 1,000,000|Free|    0|      Everyone|        Art & Design|     June 14, 2018|          6.1.61.1|        4.2 and up|           true|\n",
      "|Garden Coloring Book|   ART_AND_DESIGN|   4.4|  13791| 33M| 1,000,000|Free|    0|      Everyone|        Art & Design|September 20, 2017|             2.9.2|        3.0 and up|           true|\n",
      "|Kids Paint Free -...|   ART_AND_DESIGN|   4.7|    121|3.1M|    10,000|Free|    0|      Everyone|Art & Design;Crea...|      July 3, 2018|               2.8|      4.0.3 and up|           true|\n",
      "|Text on Photo - F...|   ART_AND_DESIGN|   4.4|  13880| 28M| 1,000,000|Free|    0|      Everyone|        Art & Design|  October 27, 2017|             1.0.4|        4.1 and up|           true|\n",
      "|Name Art Photo Ed...|   ART_AND_DESIGN|   4.4|   8788| 12M| 1,000,000|Free|    0|      Everyone|        Art & Design|     July 31, 2018|            1.0.15|        4.0 and up|           true|\n",
      "|Tattoo Name On My...|   ART_AND_DESIGN|   4.2|  44829| 20M|10,000,000|Free|    0|          Teen|        Art & Design|     April 2, 2018|               3.8|        4.1 and up|           true|\n",
      "|Mandala Coloring ...|   ART_AND_DESIGN|   4.6|   4326| 21M|   100,000|Free|    0|      Everyone|        Art & Design|     June 26, 2018|             1.0.4|        4.4 and up|           true|\n",
      "|3D Color Pixel by...|   ART_AND_DESIGN|   4.4|   1518| 37M|   100,000|Free|    0|      Everyone|        Art & Design|    August 3, 2018|             1.2.3|        2.3 and up|           true|\n",
      "|Photo Designer - ...|   ART_AND_DESIGN|   4.7|   3632|5.5M|   500,000|Free|    0|      Everyone|        Art & Design|     July 31, 2018|               3.1|        4.1 and up|           true|\n",
      "|350 Diy Room Deco...|   ART_AND_DESIGN|   4.5|     27| 17M|    10,000|Free|    0|      Everyone|        Art & Design|  November 7, 2017|               1.0|        2.3 and up|           true|\n",
      "|FlipaClip - Carto...|   ART_AND_DESIGN|   4.3| 194216| 39M| 5,000,000|Free|    0|      Everyone|        Art & Design|    August 3, 2018|             2.2.5|      4.0.3 and up|           true|\n",
      "|        ibis Paint X|   ART_AND_DESIGN|   4.6| 224399| 31M|10,000,000|Free|    0|      Everyone|        Art & Design|     July 30, 2018|             5.5.4|        4.1 and up|           true|\n",
      "|Logo Maker - Smal...|   ART_AND_DESIGN|   4.0|    450| 14M|   100,000|Free|    0|      Everyone|        Art & Design|    April 20, 2018|               4.0|        4.1 and up|           true|\n",
      "|Boys Photo Editor...|   ART_AND_DESIGN|   4.1|    654| 12M|   100,000|Free|    0|      Everyone|        Art & Design|    March 20, 2018|               1.1|      4.0.3 and up|           true|\n",
      "|Superheroes Wallp...|   ART_AND_DESIGN|   4.7|   7699|4.2M|   500,000|Free|    0|  Everyone 10+|        Art & Design|     July 12, 2018|           2.2.6.2|      4.0.3 and up|           true|\n",
      "|Mcqueen Coloring ...|   ART_AND_DESIGN|     0|     61|7.0M|   100,000|Free|    0|      Everyone|Art & Design;Acti...|     March 7, 2018|             1.0.0|        4.1 and up|           true|\n",
      "|HD Mickey Minnie ...|   ART_AND_DESIGN|   4.7|    118| 23M|    50,000|Free|    0|      Everyone|        Art & Design|      July 7, 2018|             1.1.3|        4.1 and up|           true|\n",
      "|Harley Quinn wall...|   ART_AND_DESIGN|   4.8|    192|6.0M|    10,000|Free|    0|      Everyone|        Art & Design|    April 25, 2018|               1.5|        3.0 and up|           true|\n",
      "|Colorfit - Drawin...|   ART_AND_DESIGN|   4.7|  20260| 25M|   500,000|Free|    0|      Everyone|Art & Design;Crea...|  October 11, 2017|             1.0.8|      4.0.3 and up|           true|\n",
      "|Animated Photo Ed...|   ART_AND_DESIGN|   4.1|    203|6.1M|   100,000|Free|    0|      Everyone|        Art & Design|    March 21, 2018|              1.03|      4.0.3 and up|           true|\n",
      "|Pencil Sketch Dra...|   ART_AND_DESIGN|   3.9|    136|4.6M|    10,000|Free|    0|      Everyone|        Art & Design|     July 12, 2018|               6.0|        2.3 and up|           true|\n",
      "|Easy Realistic Dr...|   ART_AND_DESIGN|   4.1|    223|4.2M|   100,000|Free|    0|      Everyone|        Art & Design|   August 22, 2017|               1.0|        2.3 and up|           true|\n",
      "|Pink Silver Bow K...|   ART_AND_DESIGN|   4.2|   1120|9.2M|   100,000|Free|    0|      Everyone|        Art & Design|     July 12, 2018|       6.7.12.2018|      4.0.3 and up|           true|\n",
      "|   Art Drawing Ideas|   ART_AND_DESIGN|   4.1|    227|5.2M|    50,000|Free|    0|      Everyone|        Art & Design|      May 31, 2018|               1.2|        2.3 and up|           true|\n",
      "|Anime Manga Color...|   ART_AND_DESIGN|   4.5|   5035| 11M|   100,000|Free|    0|      Everyone|        Art & Design|     July 19, 2018|              2.20|        4.0 and up|           true|\n",
      "|  Easy Origami Ideas|   ART_AND_DESIGN|   4.2|   1015| 11M|   100,000|Free|    0|      Everyone|        Art & Design|   January 6, 2018|             1.1.0|        4.1 and up|           true|\n",
      "|     I Creative Idea|   ART_AND_DESIGN|   4.7|    353|4.2M|    10,000|Free|    0|          Teen|        Art & Design|    April 27, 2018|               1.6|        4.1 and up|           true|\n",
      "|How to draw Ladyb...|   ART_AND_DESIGN|   3.8|    564|9.2M|   100,000|Free|    0|      Everyone|        Art & Design|     July 11, 2018|               2.1|        4.1 and up|           true|\n",
      "|UNICORN - Color B...|   ART_AND_DESIGN|   4.7|   8145| 24M|   500,000|Free|    0|      Everyone|Art & Design;Crea...|    August 2, 2018|             1.0.9|        4.4 and up|           true|\n",
      "|  Floor Plan Creator|   ART_AND_DESIGN|   4.1|  36639|null| 5,000,000|Free|    0|      Everyone|        Art & Design|     July 14, 2018|Varies with device|      2.3.3 and up|          false|\n",
      "|PIP Camera - PIP ...|   ART_AND_DESIGN|   4.7|    158| 11M|    10,000|Free|    0|      Everyone|        Art & Design| November 29, 2017|               1.3|      4.0.3 and up|           true|\n",
      "|How To Color Disn...|   ART_AND_DESIGN|   4.0|    591|9.4M|   500,000|Free|    0|      Everyone|        Art & Design|    March 31, 2018|                 1|        4.0 and up|           true|\n",
      "|Drawing Clothes F...|   ART_AND_DESIGN|   4.2|    117| 15M|    10,000|Free|    0|      Everyone|        Art & Design|     July 20, 2018|             2.0.1|      4.0.3 and up|           true|\n",
      "|Sad Poetry Photo ...|   ART_AND_DESIGN|   4.5|    176| 10M|   100,000|Free|    0|      Everyone|        Art & Design|     April 2, 2018|               1.0|      4.0.3 and up|           true|\n",
      "|Textgram - write ...|   ART_AND_DESIGN|   4.4| 295221|null|10,000,000|Free|    0|      Everyone|        Art & Design|     July 30, 2018|Varies with device|Varies with device|          false|\n",
      "|       Paint Splash!|   ART_AND_DESIGN|   3.8|   2206|1.2M|   100,000|Free|    0|      Everyone|Art & Design;Crea...|    April 15, 2018|              1.46|        4.1 and up|           true|\n",
      "|Popsicle Sticks a...|   ART_AND_DESIGN|   4.2|     26| 12M|    10,000|Free|    0|      Everyone|        Art & Design|   January 3, 2018|             1.0.0|        4.1 and up|           true|\n",
      "|Canva: Poster, ba...|   ART_AND_DESIGN|   4.7| 174531| 24M|10,000,000|Free|    0|      Everyone|        Art & Design|     July 31, 2018|             1.6.1|        4.1 and up|           true|\n",
      "|Install images wi...|   ART_AND_DESIGN|   4.6|   1070| 26M|   100,000|Free|    0|      Everyone|        Art & Design| November 14, 2017|               1.6|        4.1 and up|           true|\n",
      "|Little Teddy Bear...|   ART_AND_DESIGN|   4.2|     85|8.0M|   100,000|Free|    0|      Everyone|        Art & Design| December 17, 2017|             2.0.0|        4.1 and up|           true|\n",
      "|    How To Draw Food|   ART_AND_DESIGN|   4.3|    845|7.9M|   100,000|Free|    0|      Everyone|        Art & Design|      May 28, 2018|               1.0|        2.3 and up|           true|\n",
      "|JoJo Siwa Top Hit...|           DATING|     0|      0|4.9M|        10|Free|    0|          Teen|              Dating|     July 26, 2018|               1.0|      4.0.3 and up|           true|\n",
      "|Monster Truck Stu...|AUTO_AND_VEHICLES|   4.2|    367| 25M|   100,000|Free|    0|      Everyone|     Auto & Vehicles|      May 10, 2018|               1.0|      4.0.3 and up|           true|\n",
      "|Real Tractor Farming|AUTO_AND_VEHICLES|   4.0|   1598| 56M| 1,000,000|Free|    0|      Everyone|     Auto & Vehicles|     July 26, 2018|              11.0|        4.1 and up|           true|\n",
      "|Ultimate F1 Racin...|AUTO_AND_VEHICLES|   3.8|    284| 57M|   100,000|Free|    0|      Everyone|     Auto & Vehicles|     July 26, 2018|               3.0|        4.1 and up|           true|\n",
      "|Used Cars and Tru...|AUTO_AND_VEHICLES|   4.6|  17057|null| 1,000,000|Free|    0|      Everyone|     Auto & Vehicles|     July 30, 2018|Varies with device|Varies with device|          false|\n",
      "|American Muscle C...|AUTO_AND_VEHICLES|   3.9|    129| 35M|   100,000|Free|    0|      Everyone|     Auto & Vehicles|     July 26, 2018|               3.0|        4.1 and up|           true|\n",
      "|Offroad Oil Tanke...|AUTO_AND_VEHICLES|   4.3|    542| 33M|   100,000|Free|    0|      Everyone|     Auto & Vehicles|     July 31, 2018|               4.0|        4.1 and up|           true|\n",
      "|Tickets SDA 2018 ...|AUTO_AND_VEHICLES|   4.9|  10479| 33M|   100,000|Free|    0|      Everyone|     Auto & Vehicles|     July 18, 2018|             1.7.1|        4.0 and up|           true|\n",
      "|Gas Prices (Germa...|AUTO_AND_VEHICLES|   4.4|    805|5.6M|    50,000|Free|    0|      Everyone|     Auto & Vehicles|     July 29, 2018|             2.5.1|        4.4 and up|           true|\n",
      "|Extreme Rally Cha...|AUTO_AND_VEHICLES|   4.2|    129| 54M|   100,000|Free|    0|      Everyone|     Auto & Vehicles|     July 26, 2018|               3.0|        4.1 and up|           true|\n",
      "|   Restart Navigator|AUTO_AND_VEHICLES|   4.0|   1403|201k|   100,000|Free|    0|      Everyone|     Auto & Vehicles|   August 26, 2014|             1.0.1|        2.2 and up|           true|\n",
      "|REG - Check the r...|AUTO_AND_VEHICLES|   3.9|   3971|3.6M|   100,000|Free|    0|      Everyone|     Auto & Vehicles|     July 30, 2018|             2.493|        4.4 and up|           true|\n",
      "|        CityBus Lviv|AUTO_AND_VEHICLES|   4.6|    534|5.7M|    10,000|Free|    0|      Everyone|     Auto & Vehicles|      July 8, 2018|             1.9.1|      4.0.3 and up|           true|\n",
      "|CDL Practice Test...|AUTO_AND_VEHICLES|   4.9|   7774| 17M|   100,000|Free|    0|      Everyone|     Auto & Vehicles|      July 3, 2018|               1.7|        4.2 and up|           true|\n",
      "|ezETC (ETC balanc...|AUTO_AND_VEHICLES|   4.3|  38846|8.6M| 1,000,000|Free|    0|      Everyone|     Auto & Vehicles|     July 28, 2018|     2.20 Build 02|        4.1 and up|           true|\n",
      "|Free VIN Report f...|AUTO_AND_VEHICLES|   4.6|   2431|2.4M|   100,000|Free|    0|      Everyone|     Auto & Vehicles|     June 12, 2018|              1.37|        4.0 and up|           true|\n",
      "|DMV Permit Practi...|AUTO_AND_VEHICLES|   4.9|   6090| 27M|   100,000|Free|    0|      Everyone|     Auto & Vehicles|      July 3, 2018|               1.7|        4.2 and up|           true|\n",
      "|   Check Vehicle Tax|AUTO_AND_VEHICLES|   3.9|    295|2.7M|    10,000|Free|    0|      Everyone|     Auto & Vehicles|     July 30, 2018|             0.2.1|        4.4 and up|           true|\n",
      "|    Used Cars Mexico|AUTO_AND_VEHICLES|   4.0|    190|2.5M|    50,000|Free|    0|      Everyone|     Auto & Vehicles|  October 14, 2016|               1.0|        2.3 and up|           true|\n",
      "|  Ulysse Speedometer|AUTO_AND_VEHICLES|   4.3|  40211|null| 5,000,000|Free|    0|      Everyone|     Auto & Vehicles|     July 30, 2018|Varies with device|Varies with device|          false|\n",
      "|              REPUVE|AUTO_AND_VEHICLES|   3.9|    356|null|   100,000|Free|    0|      Everyone|     Auto & Vehicles|      May 25, 2018|Varies with device|Varies with device|          false|\n",
      "|Used cars for sal...|AUTO_AND_VEHICLES|   4.2|  52530|7.0M| 5,000,000|Free|    0|      Everyone|     Auto & Vehicles|     July 16, 2018|            4.47.3|      4.0.3 and up|           true|\n",
      "|Fines of the Stat...|AUTO_AND_VEHICLES|   4.8| 116986| 35M| 5,000,000|Free|    0|      Everyone|     Auto & Vehicles|    August 2, 2018|             1.9.7|      4.0.3 and up|           true|\n",
      "|SK Enca Direct Ma...|AUTO_AND_VEHICLES|   3.6|   1379| 16M|   500,000|Free|    0|      Everyone|     Auto & Vehicles|    August 2, 2018|            2.2.21|        4.2 and up|           true|\n",
      "|Android Auto - Ma...|AUTO_AND_VEHICLES|   4.2| 271920| 16M|10,000,000|Free|    0|          Teen|     Auto & Vehicles|     July 11, 2018|Varies with device|        5.0 and up|           true|\n",
      "|              PDD-UA|AUTO_AND_VEHICLES|   4.8|    736|null|   100,000|Free|    0|      Everyone|     Auto & Vehicles|     July 29, 2018|               2.9|      2.3.3 and up|          false|\n",
      "|Tickets SDA 2019 ...|AUTO_AND_VEHICLES|   4.8|   7021| 17M|   500,000|Free|    0|      Everyone|     Auto & Vehicles|     July 27, 2018|              1.79|        4.0 and up|           true|\n",
      "|Super Cars Wallpa...|AUTO_AND_VEHICLES|   4.6|    197|3.4M|    50,000|Free|    0|      Everyone|     Auto & Vehicles|     June 14, 2018|               1.3|        4.0 and up|           true|\n",
      "|Police Lights, Si...|AUTO_AND_VEHICLES|   4.5|    737|8.9M|   100,000|Free|    0|      Everyone|     Auto & Vehicles|      June 8, 2018|           2.3.5.1|        4.1 and up|           true|\n",
      "|Police Detector (...|AUTO_AND_VEHICLES|   4.3|   3574|3.9M| 1,000,000|Free|    0|  Everyone 10+|     Auto & Vehicles|      July 4, 2018|               1.6|        4.0 and up|           true|\n",
      "| Best Car Wallpapers|AUTO_AND_VEHICLES|   4.5|    994|2.9M|   100,000|Free|    0|      Everyone|     Auto & Vehicles|    March 27, 2018|               1.6|        4.1 and up|           true|\n",
      "|Tickets + PDA 201...|AUTO_AND_VEHICLES|   4.9| 197136| 38M| 1,000,000|Free|    0|      Everyone|     Auto & Vehicles|     July 15, 2018|              8.31|        4.1 and up|           true|\n",
      "|Pick Your Part Ga...|AUTO_AND_VEHICLES|   3.9|    142| 32M|    50,000|Free|    0|      Everyone|     Auto & Vehicles|     July 24, 2018|           1.1.5.0|        6.0 and up|           true|\n",
      "|PakWheels: Buy & ...|AUTO_AND_VEHICLES|   4.4|  15168| 37M| 1,000,000|Free|    0|      Everyone|     Auto & Vehicles|     July 27, 2018|            10.0.2|        4.2 and up|           true|\n",
      "| Supervision service|AUTO_AND_VEHICLES|   4.0|   2155| 15M|   500,000|Free|    0|      Everyone|     Auto & Vehicles|     July 30, 2018|            1.10.3|        5.0 and up|           true|\n",
      "|Speed Camera Dete...|AUTO_AND_VEHICLES|   4.3|    138|5.4M|   100,000|Free|    0|      Everyone|     Auto & Vehicles|     July 23, 2018|               1.0|      4.0.3 and up|           true|\n",
      "|Used car search G...|AUTO_AND_VEHICLES|   3.7|   5414| 18M| 1,000,000|Free|    0|      Everyone|     Auto & Vehicles|     July 23, 2018|            3.20.1|        4.4 and up|           true|\n",
      "|CarMax – Cars for...|AUTO_AND_VEHICLES|   4.4|  21777|null| 1,000,000|Free|    0|      Everyone|     Auto & Vehicles|    August 4, 2018|Varies with device|Varies with device|          false|\n",
      "|     BEST CAR SOUNDS|AUTO_AND_VEHICLES|   4.3|    348| 38M|   100,000|Free|    0|      Everyone|     Auto & Vehicles|     July 29, 2018|             1.0.3|        2.3 and up|           true|\n",
      "|RST - Sale of car...|AUTO_AND_VEHICLES|   3.2|    250|1.1M|   100,000|Free|    0|      Everyone|     Auto & Vehicles|    April 27, 2018|               1.4|      4.0.3 and up|           true|\n",
      "|AutoScout24 Switz...|AUTO_AND_VEHICLES|   4.6|  13372|null| 1,000,000|Free|    0|      Everyone|     Auto & Vehicles|    August 3, 2018|Varies with device|Varies with device|          false|\n",
      "|Zona Azul Digital...|AUTO_AND_VEHICLES|   4.6|   7880|null|   100,000|Free|    0|      Everyone|     Auto & Vehicles|      May 10, 2018|             4.6.5|Varies with device|          false|\n",
      "|            SMS Park|AUTO_AND_VEHICLES|   4.5|   3617|7.9M|   100,000|Free|    0|      Everyone|     Auto & Vehicles|      May 16, 2018|             2.8.2|        4.1 and up|           true|\n",
      "|             SKencar|AUTO_AND_VEHICLES|   3.7|   4806| 35M| 1,000,000|Free|    0|      Everyone|     Auto & Vehicles|     July 31, 2018|             4.0.3|      4.0.3 and up|           true|\n",
      "|Fuelio: Gas log &...|AUTO_AND_VEHICLES|   4.6|  65786|null| 1,000,000|Free|    0|      Everyone|     Auto & Vehicles|    August 2, 2018|Varies with device|      4.0.3 and up|          false|\n",
      "|          auto fines|AUTO_AND_VEHICLES|   4.6|  31433| 17M| 1,000,000|Free|    0|      Everyone|     Auto & Vehicles|    August 2, 2018|              1.40|      4.0.3 and up|           true|\n",
      "|Used car is the f...|AUTO_AND_VEHICLES|   4.6|   5097| 19M| 1,000,000|Free|    0|      Everyone|     Auto & Vehicles|     July 23, 2018|            1.5.18|      4.0.3 and up|           true|\n",
      "|UK Girls Mobile N...|           DATING|   3.0|      1|5.5M|       500|Free|    0|    Mature 17+|              Dating|     July 19, 2018|               1.0|      4.0.3 and up|           true|\n",
      "|All of the parkin...|AUTO_AND_VEHICLES|   4.0|   1754| 14M|   500,000|Free|    0|      Everyone|     Auto & Vehicles|      June 2, 2018|             2.3.4|        4.0 and up|           true|\n",
      "|Inquiry Fines and...|AUTO_AND_VEHICLES|   4.4|   2680|2.2M|   500,000|Free|    0|      Everyone|     Auto & Vehicles|    March 20, 2018|              1.03|      4.0.3 and up|           true|\n",
      "|         Gas Station|AUTO_AND_VEHICLES|   4.0|   1288|4.5M|   100,000|Free|    0|      Everyone|     Auto & Vehicles|    April 21, 2018|              2.17|        4.0 and up|           true|\n",
      "|Hush - Beauty for...|           BEAUTY|   4.7|  18900| 17M|   500,000|Free|    0|      Everyone|              Beauty|    August 2, 2018|            6.10.1|        5.0 and up|           true|\n",
      "+--------------------+-----------------+------+-------+----+----------+----+-----+--------------+--------------------+------------------+------------------+------------------+---------------+\n",
      "only showing top 100 rows\n",
      "\n"
     ]
    }
   ],
   "source": [
    "cleaning_data = varies_changed.withColumn(\"size_dependency\", f.when(f.col(\"Size\").isNull(), False).otherwise(True))\n",
    "cleaning_data.show(100)"
   ]
  },
  {
   "cell_type": "code",
   "execution_count": null,
   "metadata": {},
   "outputs": [],
   "source": []
  }
 ],
 "metadata": {
  "kernelspec": {
   "display_name": ".venv",
   "language": "python",
   "name": "python3"
  },
  "language_info": {
   "codemirror_mode": {
    "name": "ipython",
    "version": 3
   },
   "file_extension": ".py",
   "mimetype": "text/x-python",
   "name": "python",
   "nbconvert_exporter": "python",
   "pygments_lexer": "ipython3",
   "version": "3.10.12"
  }
 },
 "nbformat": 4,
 "nbformat_minor": 2
}
